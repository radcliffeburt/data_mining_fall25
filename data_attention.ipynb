{
 "cells": [
  {
   "cell_type": "code",
   "execution_count": 97,
   "id": "b20951c9",
   "metadata": {},
   "outputs": [],
   "source": [
    "import torch, tiktoken"
   ]
  },
  {
   "cell_type": "code",
   "execution_count": 98,
   "id": "d5e7d11e",
   "metadata": {},
   "outputs": [],
   "source": [
    "tokenizer = tiktoken.get_encoding(\"gpt2\")"
   ]
  },
  {
   "cell_type": "code",
   "execution_count": 99,
   "id": "45d2b365",
   "metadata": {},
   "outputs": [
    {
     "data": {
      "text/plain": [
       "'Cororuc glanced about him and hastened his pace. He was no coward, but he did not like the place. Tall trees rose all about, their sullen branches shutting out the sunlight. The dim trail led in and out among them, sometimes skirting the edge of a ravine, where Cororuc could gaze down at the tree-tops beneath. Occasionally, through a rift in the forest, he could see away to the forbidding hills that hinted of the ranges much farther to the west, that were the mountains of Cornwall.\\n\\nIn those mountains the bandit chief, Buruc the Cruel, was supposed to lurk, to descend upon such victims as might pass that way. Cororuc shifted his grip on his spear and quickened his step. His haste was due not only to the menace of the outlaws, but also to the fact that he wished once more to be in his native land. He had been on a secret mission to the wild Cornish tribesmen; and though he had been more or less successful, he was impatient to be out of their inhospitable country. It had been a long, wearisome trip, and he still had nearly the whole of Britain to traverse. He threw a glance of aversion about him. He longed for the pleasant woodlands, with scampering deer, and chirping birds, to which he was used. He longed for the tall white cliff, where the blue sea lapped merrily. The forest through which he was passing seemed uninhabited. There were no birds, no animals; nor had he seen a sign of a human habitation.\\n\\nHis comrades still lingered at the savage court of the Cornish king, enjoying his crude hospitality, in no hurry to be away. But Cororuc was not content. So he had left them to follow at their leisure and had set out alone.\\n\\nRather a fine figure of a man was Cororuc. Some six feet in height, strongly though leanly built, he was, with gray eyes, a pure Briton but not a pure Celt, his long yellow hair revealing, in him as in all his race, a trace of BelgÃ¦.\\n\\nHe was clad in skilfully dressed deerskin, for the Celts had not yet perfected the coarse cloth which they made, and most of the race preferred the hides of deer.\\n\\nHe was armed with a long bow of yew wood, made with no especial skill but an efficient weapon; a long bronze broadsword, with a buckskin sheath, a long bronze dagger and a small, round shield, rimmed with a band of bronze and covered with tough buffalo hide. A crude bronze helmet was on his head. Faint devices were painted in woad on his arms and cheeks.\\n\\nHis beardless face was of the highest type of Briton, clear, straightforward, the shrewd, practical determination of the Nordic mingling with the reckless courage and dreamy artistry of the Celt.\\n\\nSo Cororuc trod the forest path. warily, ready to flee or fight, but preferring to do neither just then.\\n\\nThe trail led away from the ravine, disappearing around a great tree. And from the other side of the tree, Cororuc heard sounds of conflict. Gliding warily forward, and wondering whether he should see some of the elves and dwarfs that were reputed to haunt those woodlands, he peered around the great tree.\\n\\nA few feet from him he saw a strange tableau. Backed against another tree stood a large wolf, at bay, blood trickling from gashes about his shoulder; while before him, crouching for a spring, the warrior saw a great panther. Cororuc wondered at the cause of the battle. Not often the lords of the forest met in warfare. And he was puzzled by the snarls of the great cat. Savage, blood-lusting, yet they held a strange note of fear; and the beast seemed hesitant to spring in.\\n\\nJust why Cororuc chose to take the part of the wolf, he himself could not have said. Doubtless it was just the reckless chivalry of the Celt of him, an admiration for the dauntless attitude of the wolf against his far more powerful foe. Be that as it may, Cororuc, characteristically forgetting his bow and taking the more reckless course, drew his sword and leaped in front of the panther. But he had no chance to use it. The panther, whose nerve appeared to be already somewhat shaken, uttered a startled screech and disappeared among the trees so quickly that Cororuc wondered if he had really seen a panther. He turned to the wolf, wondering if it would leap upon him. It was watching him, half crouching; slowly it stepped away from the tree, and still watching him, backed away a few yards, then turned and made off with a strange shambling gait. As the warrior watched it vanish into the forest, an uncanny feeling came over him; he had seen many wolves, he had hunted them and had been hunted by them, but he had never seen such a wolf before.\\n\\nHe hesitated and then walked warily after the wolf, following the tracks that were plainly defined in the soft loam. He did not hasten, being merely content to follow the tracks. After a short distance, he stopped short, the hairs on his neck seeming to bristle. Only the tracks of the hind feet showed: the wolf was walking erect.\\n\\nHe glanced about him. There was no sound; the forest was silent. He felt an impulse to turn and put as much territory between him and the mystery as possible, but his Celtic curiosity would not allow it. He followed the trail. And then it ceased altogether. Beneath a great tree the tracks vanished. Cororuc felt the cold sweat on his forehead. What kind of place was that forest? Was he being led astray and eluded by some inhuman, supernatural monster of the woodlands, who sought to ensnare him? And Cororuc backed away, his sword lifted, his courage not allowing him to run, but greatly desiring to do so. And so he came again to the tree where he had first seen the wolf. The trail he had followed led away from it in another direction and Cororuc took it up, almost running in his haste to get out of the vicinity of a wolf who walked on two legs and then vanished in the air.\\n\\n\\nThe trail wound about more tediously than ever, appearing and disappearing within a dozen feet, but it was well for Cororuc that it did, for thus he heard the voices of the men coming up the path before they saw him. He took to a tall tree that branched over the trail, lying close to the great bole, along a wide-flung branch.\\n\\nThree men were coming down the forest path.\\n\\nOne was a big, burly fellow, vastly over six feet in height, with a long red beard and a great mop of red hair. In contrast, his eyes were a beady black. He was dressed in deerskins, and armed with a great sword.\\n\\nOf the two others, one was a lanky, villainous-looking scoundrel, with only one eye, and the other was a small, wizened man, who squinted hideously with both beady eyes.\\n\\nCororuc knew them, by descriptions the Cornishmen had made between curses, and it was in his excitement to get a better view of the most villainous murderer in Britain that he slipped from the tree branch and plunged to the ground directly between them.\\n\\nHe was up on the instant, his sword out. He could expect no mercy; for he knew that the red-haired man was Buruc the Cruel, the scourge of Cornwall.\\n\\nThe bandit chief bellowed a foul curse and whipped out his great sword. He avoided the Briton\\'s furious thrust by a swift backward leap and then the battle was on. Buruc rushed the warrior from the front, striving to beat him down by sheer weight; while the lanky, one-eyed villain slipped around, trying to get behind him. The smaller man had retreated to the edge of the forest. The fine art of the fence was unknown to those early swordsmen. It was hack, slash, stab, the full weight of the arm behind each blow. The terrific blows crashing on his shield beat Cororuc to the ground, and the lanky, one-eyed villain rushed in to finish him. Cororuc spun about without rising, cut the bandit\\'s legs from under him and stabbed him as he fell, then threw himself to one side and to his feet, in time to avoid Buruc\\'s sword. Again, driving his shield up to catch the bandit\\'s sword in midair, he deflected it and whirled his own with all his power. Buruc\\'s head flew from his shoulders.\\n\\nThen Cororuc, turning, saw the wizened bandit scurry into the forest. He raced after him, but the fellow had disappeared among the trees. Knowing the uselessness of attempting to pursue him, Cororuc turned and raced down the trail. He did not know if there were more bandits in that direction, but he did know that if he expected to get out of the forest at all, he would have to do it swiftly. Without doubt the villain who had escaped would have all the other bandits out, and soon they would be beating the woodlands for him.\\n\\nAfter running for some distance down the path and seeing no sign of any enemy, he stopped and climbed into the topmost branches of a tall tree, that towered above its fellows.\\n\\nOn all sides he seemed surrounded by a leafy ocean. To the west he could see the hills he had avoided. To the north, far in the distance other hills rose; to the south the forest ran, an unbroken sea. But to the east, far away, he could barely see the line that marked the thinning out of the forest into the fertile plains. Miles and miles away, he knew not how many, but it meant more pleasant travel, villages of men, people of his own race. He was surprized that he was able to see that far, but the tree in which he stood was a giant of its kind.\\n\\nBefore he started to descend, he glanced about nearer at hand. He could trace the faintly marked line of the trail he had been following, running away into the east; and could make out other trails leading into it, or away from it. Then a glint caught his eye. He fixed his gaze on a glade some distance down the trail and saw, presently, a party of men enter and vanish. Here and there, on every trail, he caught glances of the glint of accouterments, the waving of foliage. So the squinting villain had already roused the bandits. They were all around him; he was virtually surrounded.\\n\\nA faintly heard burst of savage yells, from back up the trail, startled him. So, they had already thrown a cordon about the place of the fight and had found him gone. Had he not fled swiftly, he would have been caught. He was outside the cordon, but the bandits were all about him. Swiftly he slipped from the tree and glided into the forest.\\n\\nThen began the most exciting hunt Cororuc had ever engaged in; for he was the hunted and men were the hunters. Gliding, slipping from bush to bush and from tree to tree, now running swiftly, now crouching in a covert, Cororuc fled, ever eastward; not daring to turn back lest he be driven farther back into the forest. At times he was forced to turn his course; in fact, he very seldom fled in a straight course, yet always he managed to work farther eastward.\\n\\nSometimes he crouched in bushes or lay along some leafy branch, and saw bandits pass so close to him that he could have touched them. Once or twice they sighted him and he fled, bounding over logs and bushes, darting in and out among the trees; and always he eluded them.\\n\\nIt was in one of those headlong flights that he noticed he had entered a defile of small hills, of which he had been unaware, and looking back over his shoulder, saw that his pursuers had halted, within full sight. Without pausing to ruminate on so strange a thing, he darted around a great boulder, felt a vine or something catch his foot, and was thrown headlong. Simultaneously something struck the youth\\'s head, knocking him senseless.\\n\\nWhen Cororuc recovered his senses, he found that he was bound, hand and foot. He was being borne along, over rough ground. He looked about him. Men carried him on their shoulders, but such men as he had never seen before. Scarce above four feet stood the tallest, and they were small of build and very dark of complexion. Their eyes were black; and most of them went stooped forward, as if from a lifetime spent in crouching and hiding; peering furtively on all sides. They were armed with small bows, arrows, spears and daggers, all pointed, not with crudely worked bronze but with flint and obsidian, of the finest workmanship. They were dressed in finely dressed hides of rabbits and other small animals, and a kind of coarse cloth; and many were tattooed from head to foot in ocher and woad. There were perhaps twenty in all. What sort of men were they? Cororuc had never seen the like.\\n\\nThey were going down a ravine, on both sides of which steep cliffs rose. Presently they seemed to come to a blank wall, where the ravine appeared to come to an abrupt stop. Here, at a word from one who seemed to be in command, they set the Briton down, and seizing hold of a large boulder, drew it to one side. A small cavern was exposed, seeming to vanish away into the earth; then the strange men picked up the Briton and moved forward.\\n\\nCororuc\\'s hair bristled at thought of being borne into that forbidding-looking cave. What manner of men were they? In all Britain and Alba, in Cornwall or Ireland, Cororuc had never seen such men. Small dwarfish men, who dwelt in the earth. Cold sweat broke out on the youth\\'s forehead. Surely they were the malevolent dwarfs of whom the Cornish people had spoken, who dwelt in their caverns by day, and by night sallied forth to steal and burn dwellings, even slaying if the opportunity arose! You will hear of them, even today, if you journey in Cornwall.\\n\\nThe men, or elves, if such they were, bore him into the cavern, others entering and drawing the boulder back into place. For a moment all was darkness, and then torches began to glow, away off. And at a shout they moved on. Other men of the caves came forward, with the torches.\\n\\nCororuc looked about him. The torches shed a vague glow over the scene. Sometimes one, sometimes another wall of the cave showed for an instant, and the Briton was vaguely aware that they were covered with paintings, crudely done, yet with a certain skill his own race could not equal. But always the roof remained unseen. Cororuc knew that the seemingly small cavern had merged into a cave of surprizing size. Through the vague light of the torches the strange people moved, came and went, silently, like shadows of the dim past.\\n\\nHe felt the cords or thongs that bound his feet loosened. He was lifted upright.\\n\\n\"Walk straight ahead,\" said a voice, speaking the language of his own race, and he felt a spearpoint touch the back of his neck.\\n\\nAnd straight ahead he walked, feeling his sandals scrape on the stone floor of the cave, until they came to a place where the floor tilted upward. The pitch was steep and the stone was so slippery that Cororuc could not have climbed it alone. But his captors pushed him, and pulled him, and he saw that long, strong vines were strung from somewhere at the top.\\n\\nThose the strange men seized, and bracing their feet against the slippery ascent, went up swiftly. When their feet found level surface again, the cave made a turn, and Cororuc blundered out into a firelit scene that made him gasp.\\n\\nThe cave debouched into a cavern so vast as to be almost incredible. The mighty walls swept up into a great arched roof that vanished in the darkness. A level floor lay between, and through it flowed a river; an underground river. From under one wall it flowed to vanish silently under the other. An arched stone bridge, seemingly of natural make, spanned the current.\\n\\nAll around the walls of the great cavern, which was roughly circular, were smaller caves, and before each glowed a fire. Higher up were other caves, regularly arranged, tier on tier. Surely human men could not have built such a city.\\n\\nIn and out among the caves, on the level floor of the main cavern, people were going about what seemed daily tasks. Men were talking together and mending weapons, some were fishing from the river; women were replenishing fires, preparing garments; and altogether it might have been any other village in Britain, to judge from their occupations. But it all struck Cororuc as extremely unreal; the strange place, the small, silent people, going about their tasks, the river flowing silently through it all.\\n\\nThen they became aware of the prisoner and flocked about him. There was none of the shouting, abuse and indignities, such as savages usually heap on their captives, as the small men drew about Cororuc, silently eyeing him with malevolent, wolfish stares. The warrior shuddered, in spite of himself.\\n\\nBut his captors pushed through the throng, driving the Briton before them. Close to the bank of the river, they stopped and drew away from around him.\\n\\nTwo great fires leaped and flickered in front of him and there was something between them. He focused his gaze and presently made out the object. A high stone seat, like a throne; and in it seated an aged man, with a long white beard, silent, motionless, but with black eyes that gleamed like a wolf\\'s.\\n\\nThe ancient was clothed in some kind of a single, flowing garment. One clawlike hand rested on the seat near him, skinny, crooked fingers, with talons like a hawk\\'s. The other hand was hidden among his garments.\\n\\nThe firelight danced and flickered; now the old man stood out clearly, his hooked, beaklike nose and long beard thrown into bold relief; now he seemed to recede until he was invisible to the gaze of the Briton, except for his glittering eyes.\\n\\n\"Speak, Briton!\" The words came suddenly, strong, clear, without a hint of age. \"Speak, what would ye say?\"\\n\\nCororuc, taken aback, stammered and said, \"Why, whyâ€”what manner of people are you? Why have you taken me prisoner? Are you elves?\"\\n\\n\"We are Picts,\" was the stern reply.\\n\\n\"Picts!\" Cororuc had heard tales of those ancient people from the Gaelic Britons; some said that they still lurked in the hill of Siluria, butâ€”â€”\\n\\n\"I have fought Picts in Caledonia,\" the Briton protested; \"they are short but massive and misshapen; not at all like you!\"\\n\\n\"They are not true Picts,\" came the stern retort. \"Look about you, Briton,\" with a wave of an arm, \"you see the remnants of a vanishing race; a race that once ruled Britain from sea to sea.\"\\n\\nThe Briton stared, bewildered.\\n\\n\"Harken, Briton,\" the voice continued; \"harken, barbarian, while I tell to you the tale of the lost race.\"\\n\\nThe firelight flickered and danced, throwing vague reflections on the towering walls and on the rushing, silent current.\\n\\nThe ancient\\'s voice echoed through the mighty cavern.\\n\\n\"Our people came from the south. Over the islands, over the Inland Sea. Over the snow-topped mountains, where some remained, to stay any enemies who might follow. Down into the fertile plains we came. Over all the land we spread. We became wealthy and prosperous. Then two kings arose in the land, and he who conquered, drove out the conquered. So many of us made boats and set sail for the far-off cliffs that gleamed white in the sunlight. We found a fair land with fertile plains. We found a race of red-haired barbarians, who dwelt in caves. Mighty giants, of great bodies and small minds.\\n\\n\"We built our huts of wattle. We tilled the soil. We cleared the forest. We drove the red-haired giants back into the forest. Farther we drove them back until at last they fled to the mountains of the west and the mountains of the north. We were rich. We were prosperous.\\n\\n\"Then,\" and his voice thrilled with rage and hate, until it seemed to reverberate through the cavern, \"then the Celts came. From the isles of the west, in their rude coracles they came. In the west they landed, but they were not satisfied with the west. They marched eastward and seized the fertile plains. We fought. They were stronger. They were fierce fighters and they were armed with weapons of bronze, whereas we had only weapons of flint.\\n\\n\"We were driven out. They enslaved us. They drove us into the forest. Some of us fled into the mountains of the west. Many fled into the mountains of the north. There they mingled with the red-haired giants we drove out so long ago, and became a race of monstrous dwarfs, losing all the arts of peace and gaining only the ability to fight.\\n\\n\"But some of us swore that we would never leave the land we had fought for. But the Celts pressed us. There were many, and more came. So we took to caverns, to ravines, to caves. We, who had always dwelt in huts that let in much light, who had always tilled the soil, we learned to dwell like beasts, in caves where no sunlight ever entered. Caves we found, of which this is the greatest; caves we made.\\n\\n\"You, Briton,\" the voice became a shriek and a long arm was outstretched in accusation, \"you and your race! You have made a free, prosperous nation into a race of earth-rats! We who never fled, who dwelt in the air and the sunlight close by the sea where traders came, we must flee like hunted beasts and burrow like moles! But at night! Ah, then for our vengeance! Then we slip from our hiding places, from our ravines and our caves, with torch and dagger! Look, Briton!\"\\n\\nAnd following the gesture, Cororuc saw a rounded post of some kind of very hard wood, set in a niche in the stone floor, close to the bank. The floor about the niche was charred as if by old fires.\\n\\nCororuc stared, uncomprehending. Indeed, he understood little of what had passed. That these people were even human, he was not at all certain. He had heard so much of them as \"little people.\" Tales of their doings, their hatred of the race of man, and their maliciousness flocked back to him. Little he knew that he was gazing on one of the mysteries of the ages. That the tales which the ancient Gaels told of the Picts, already warped, would become even more warped from age to age, to result in tales of elves, dwarfs, trolls and fairies, at first accepted and then rejected, entire, by the race of men, just as the Neandertal monsters resulted in tales of goblins and ogres. But of that Cororuc neither knew nor cared, and the ancient was speaking again.\\n\\n\"There, there, Briton,\" exulted he, pointing to the post, \"there you shall pay! A scant payment for the debt your race owes mine, but to the fullest of your extent.\"\\n\\nThe old man\\'s exultation would have been fiendish, except for a certain high purpose in his face. He was sincere. He believed that he was only taking just vengeance; and he seemed like some great patriot for a mighty, lost cause.\\n\\n\"But I am a Briton!\" stammered Cororuc. \"It was not my people who drove your race into exile! They were Gaels, from Ireland. I am a Briton and my race came from Gallia only a hundred years ago. We conquered the Gaels and drove them into Erin, Wales and Caledonia, even as they drove your race.\"\\n\\n\"No matter!\" The ancient chief was on his feet. \"A Celt is a Celt. Briton, or Gael, it makes no difference. Had it not been Gael, it would have been Briton. Every Celt who falls into our hands must pay, be it warrior or woman, babe or king. Seize him and bind him to the post.\"\\n\\nIn an instant Cororuc was bound to the post, and he saw, with horror, the Picts piling firewood about his feet.\\n\\n\"And when you are sufficiently burned, Briton,\" said the ancient, \"this dagger that has drunk the blood of an hundred Britons, shall quench its thirst in yours.\"\\n\\n\"But never have I harmed a Pict!\" Cororuc gasped, struggling with his bonds.\\n\\n\"You pay, not for what you did, but for what your race has done,\" answered the ancient sternly. \"Well do I remember the deeds of the Celts when first they landed on Britainâ€”the shrieks of the slaughtered, the screams of ravished girls, the smokes of burning villages, the plundering.\"\\n\\nCororuc felt his short neck-hairs bristle. When first the Celts landed on Britain! That was over five hundred years ago!\\n\\nAnd his Celtic curiosity would not let him keep still, even at the stake with the Picts preparing to light firewood piled about him.\\n\\n\"You could not remember that. That was ages ago.\"\\n\\nThe ancient looked at him somberly. \"And I am age-old. In my youth I was a witch-finder, and an old woman witch cursed me as she writhed at the stake. She said I should live until the last child of the Pictish race had passed. That I should see the once mighty nation go down into oblivion and thenâ€”and only thenâ€”should I follow it. For she put upon me the curse of life everlasting.\"\\n\\nThen his voice rose until it filled the cavern, \"But the curse was nothing. Words can do no harm, can do nothing, to a man. I live. An hundred generations have I seen come and go, and yet another hundred. What is time? The sun rises and sets, and another day has passed into oblivion. Men watch the sun and set their lives by it. They league themselves on every hand with time. They count the minutes that race them into eternity. Man outlived the centuries ere he began to reckon time. Time is man-made. Eternity is the work of the gods. In this cavern there is no such thing as time. There are no stars, no sun. Without is time; within is eternity. We count not time. Nothing marks the speeding of the hours. The youths go forth. They see the sun, the stars. They reckon time. And they pass. I was a young man when I entered this cavern. I have never left it. As you reckon time, I may have dwelt here a thousand years; or an hour. When not banded by time, the soul, the mind, call it what you will, can conquer the body. And the wise men of the race, in my youth, knew more than the outer world will ever learn. When I feel that my body begins to weaken, I take the magic draft, that is known only to me, of all the world. It does not give immortality; that is the work of the mind alone; but it rebuilds the body. The race of Picts vanish; they fade like the snow on the mountain. And when the last is gone, this dagger shall free me from the world.\" Then in a swift change of tone, \"Light the fagots!\"\\n\\nCororuc\\'s mind was fairly reeling. He did not in the least understand what he had just heard. He was positive that he was going mad; and what he saw the next minute assured him of it.\\n\\nThrough the throng came a wolf; and he knew that it was the wolf whom he had rescued from the panther close by the ravine in the forest!\\n\\nStrange, how long ago and far away that seemed! Yes, it was the same wolf. That same strange, shambling gait. Then the thing stood erect and raised its front feet to its head. What nameless horror was that?\\n\\nThen the wolf\\'s head fell back, disclosing a man\\'s face. The face of a Pict; one of the first \"werewolves.\" The man stepped out of the wolfskin and strode forward, calling something. A Pict just starting to light the wood about the Briton\\'s feet drew back the torch and hesitated.\\n\\nThe wolf-Pict stepped forward and began to speak to the chief, using Celtic, evidently for the prisoner\\'s benefit. (Cororuc was surprized to hear so many speak his language, not reflecting upon its comparative simplicity, and the ability of the Picts.)\\n\\n\"What is this?\" asked the Pict who had played wolf. \"A man is to be burned who should not be!\"\\n\\n\"How?\" exclaimed the old man fiercely, clutching his long beard. \"Who are you to go against a custom of age-old antiquity?\"\\n\\n\"I met a panther,\" answered the other, \"and this Briton risked his life to save mine. Shall a Pict show ingratitude?\"\\n\\nAnd as the ancient hesitated, evidently pulled one way by his fanatical lust for revenge, and the other by his equally fierce racial pride, the Pict burst into a wild flight of oration, carried on in his own language. At last the ancient chief nodded.\\n\\n\"A Pict ever paid his debts,\" said he with impressive grandeur. \"Never a Pict forgets. Unbind him. No Celt shall ever say that a Pict showed ingratitude.\"\\n\\nCororuc was released, and as, like a man in a daze, he tried to stammer his thanks, the chief waved them aside.\\n\\n\"A Pict never forgets a foe, ever remembers a friendly deed,\" he replied.\\n\\n\"Come,\" murmured his Pictish friend, tugging at the Celt\\'s arm.\\n\\nHe led the way into a cave leading away from the main cavern. As they went, Cororuc looked back, to see the ancient chief seated upon his stone throne, his eyes gleaming as he seemed to gaze back through the lost glories of the ages; on each hand the fires leaped and flickered. A figure of grandeur, the king of a lost race.\\n\\nOn and on Cororuc\\'s guide led him. And at last they emerged and the Briton saw the starlit sky above him.\\n\\n\"In that way is a village of your tribesmen,\" said the Pict, pointing, \"where you will find a welcome until you wish to take up your journey anew.\"\\n\\nAnd he pressed gifts on the Celt; gifts of garments of cloth and finely worked deerskin, beaded belts, a fine horn bow with arrows skilfully tipped with obsidian. Gifts of food. His own weapons were returned to him.\\n\\n\"But an instant,\" said the Briton, as the Pict turned to go. \"I followed your tracks in the forest. They vanished.\" There was a question in his voice.\\n\\nThe Pict laughed softly, \"I leaped into the branches of the tree. Had you looked up, you would have seen me. If ever you wish a friend, you will ever find one in Berula, chief among the Alban Picts.\"\\n\\nHe turned and vanished. And Cororuc strode through the moonlight toward the Celtic village. \\n'"
      ]
     },
     "execution_count": 99,
     "metadata": {},
     "output_type": "execute_result"
    }
   ],
   "source": [
    "with open(\"thelostrace.txt\", \"r\") as f:\n",
    "    raw_text = f.read()\n",
    "\n",
    "raw_text"
   ]
  },
  {
   "cell_type": "code",
   "execution_count": 100,
   "id": "41341da2",
   "metadata": {},
   "outputs": [
    {
     "data": {
      "text/plain": [
       "[10606, 273, 1229, 27846, 546, 683, 290, 19338, 2945, 465]"
      ]
     },
     "execution_count": 100,
     "metadata": {},
     "output_type": "execute_result"
    }
   ],
   "source": [
    "enc_text = tokenizer.encode(raw_text)\n",
    "enc_text[:10]\n"
   ]
  },
  {
   "cell_type": "code",
   "execution_count": 101,
   "id": "0f504f00",
   "metadata": {},
   "outputs": [],
   "source": [
    "from torch.utils.data import Dataset, DataLoader"
   ]
  },
  {
   "cell_type": "code",
   "execution_count": 102,
   "id": "44a4aea4",
   "metadata": {},
   "outputs": [],
   "source": [
    "class GPTDatasetV1(Dataset):\n",
    "    def __init__(self, txt, tokenizer, max_length, stride):\n",
    "        self.input_ids = []\n",
    "        self.target_ids = []\n",
    "        token_ids = tokenizer.encode(txt) #tokenizes all of text\n",
    "\n",
    "        for i in range(0, len(token_ids) - max_length, stride): # uses sliding window to chunk book into sequences of max_length\n",
    "            input_chunk = token_ids[i:i + max_length]\n",
    "            target_chunk = token_ids[i + 1: i + max_length + 1]\n",
    "            self.input_ids.append(torch.tensor(input_chunk))\n",
    "            self.target_ids.append(torch.tensor(target_chunk))\n",
    "\n",
    "\n",
    "    def __len__(self): #returns total # of rows in data set\n",
    "        return len(self.input_ids)\n",
    "    def __getitem__(self, idx): #returns single row from dataset\n",
    "        return self.input_ids[idx], self.target_ids[idx]\n",
    "\n"
   ]
  },
  {
   "cell_type": "code",
   "execution_count": 103,
   "id": "9afe6e8a",
   "metadata": {},
   "outputs": [],
   "source": [
    "#data loader for gptdatasetv1\n",
    "def create_dataloader_v1(txt, batch_size=4, max_length=256,stride=128, shuffle=True, drop_last=True, num_workers=0):\n",
    "    tokenizer = tiktoken.get_encoding(\"gpt2\") # initializes tokenizer\n",
    "    dataset = GPTDatasetV1(txt, tokenizer, max_length, stride)#creates data set\n",
    "    dataloader = DataLoader(dataset,\n",
    "                            batch_size=batch_size,\n",
    "                            shuffle=shuffle,\n",
    "                            drop_last=drop_last,\n",
    "                            num_workers=num_workers) #drops last batch if its shorter than the specificed batch_size wanted for training\n",
    "                            #also number of cpu processes for preprocessing\n",
    "    return dataloader \n",
    "\n"
   ]
  },
  {
   "cell_type": "code",
   "execution_count": 104,
   "id": "9f55fcd3",
   "metadata": {},
   "outputs": [
    {
     "name": "stdout",
     "output_type": "stream",
     "text": [
      "[tensor([[10606,   273,  1229, 27846]]), tensor([[  273,  1229, 27846,   546]])]\n"
     ]
    }
   ],
   "source": [
    "# testing data loader\n",
    "dataloader = create_dataloader_v1(raw_text, batch_size=1, max_length=4, stride=1, shuffle=False)\n",
    "data_iter = iter(dataloader)\n",
    "first_batch = next(data_iter)\n",
    "print(first_batch)\n",
    "\n",
    "\n"
   ]
  },
  {
   "cell_type": "code",
   "execution_count": 105,
   "id": "f7fb777d",
   "metadata": {},
   "outputs": [
    {
     "data": {
      "text/plain": [
       "[tensor([[  273,  1229, 27846,   546]]),\n",
       " tensor([[ 1229, 27846,   546,   683]])]"
      ]
     },
     "execution_count": 105,
     "metadata": {},
     "output_type": "execute_result"
    }
   ],
   "source": [
    "#trying another batch\n",
    "\n",
    "second_batch = next(data_iter)\n",
    "second_batch\n"
   ]
  },
  {
   "cell_type": "code",
   "execution_count": 106,
   "id": "599b8f56",
   "metadata": {},
   "outputs": [
    {
     "name": "stdout",
     "output_type": "stream",
     "text": [
      "[tensor([[10606,   273],\n",
      "        [ 1229, 27846],\n",
      "        [  546,   683],\n",
      "        [  290, 19338],\n",
      "        [ 2945,   465]]), tensor([[  273,  1229],\n",
      "        [27846,   546],\n",
      "        [  683,   290],\n",
      "        [19338,  2945],\n",
      "        [  465,  8761]])]\n"
     ]
    }
   ],
   "source": [
    "#testing other variabls\n",
    "dataloader = create_dataloader_v1(raw_text, batch_size=5, max_length=2, stride=2, shuffle=False)\n",
    "data_iter = iter(dataloader)\n",
    "first_batch = next(data_iter)\n",
    "print(first_batch)"
   ]
  },
  {
   "cell_type": "code",
   "execution_count": 107,
   "id": "a6eb99d5",
   "metadata": {},
   "outputs": [
    {
     "name": "stdout",
     "output_type": "stream",
     "text": [
      "[tensor([[  284,   307, 11544,   508,   815,   407,   307,  2474,   198],\n",
      "        [  422,   262, 15857,   372,  1969,   416,   262, 24343,   500]]), tensor([[  307, 11544,   508,   815,   407,   307,  2474,   198,   198],\n",
      "        [  262, 15857,   372,  1969,   416,   262, 24343,   500,   287]])]\n"
     ]
    }
   ],
   "source": [
    "#and messing with stride variable as well as max_length/batch_size and seeing how shuffle true looks vs false\n",
    "\n",
    "dataloader = create_dataloader_v1(raw_text, batch_size=2, max_length=9, stride=3, shuffle=True)\n",
    "data_iter = iter(dataloader)\n",
    "first_batch = next(data_iter)\n",
    "print(first_batch)"
   ]
  },
  {
   "cell_type": "code",
   "execution_count": 108,
   "id": "89397628",
   "metadata": {},
   "outputs": [
    {
     "name": "stdout",
     "output_type": "stream",
     "text": [
      "Inputs:\n",
      " tensor([[10606,   273,  1229, 27846],\n",
      "        [  546,   683,   290, 19338],\n",
      "        [ 2945,   465,  8761,    13],\n",
      "        [  679,   373,   645, 26769],\n",
      "        [   11,   475,   339,   750],\n",
      "        [  407,   588,   262,  1295],\n",
      "        [   13, 22676,  7150,  8278],\n",
      "        [  477,   546,    11,   511]])\n",
      "\n",
      "Targets:\n",
      " tensor([[  273,  1229, 27846,   546],\n",
      "        [  683,   290, 19338,  2945],\n",
      "        [  465,  8761,    13,   679],\n",
      "        [  373,   645, 26769,    11],\n",
      "        [  475,   339,   750,   407],\n",
      "        [  588,   262,  1295,    13],\n",
      "        [22676,  7150,  8278,   477],\n",
      "        [  546,    11,   511,   424]])\n"
     ]
    }
   ],
   "source": [
    "#messed with different variables to see what stride did with input field changing position but using this setup for this section\n",
    "dataloader = create_dataloader_v1(raw_text, batch_size=8, max_length=4, stride=4, shuffle=False)\n",
    "\n",
    "data_iter = iter(dataloader)\n",
    "inputs, targets = next(data_iter)\n",
    "print(\"Inputs:\\n\", inputs)\n",
    "print(\"\\nTargets:\\n\", targets)"
   ]
  },
  {
   "cell_type": "code",
   "execution_count": 109,
   "id": "c9f8c4dd",
   "metadata": {},
   "outputs": [
    {
     "name": "stdout",
     "output_type": "stream",
     "text": [
      "Cororuc glanced\n",
      " about him and hast\n",
      "ened his pace.\n",
      " He was no coward\n",
      ", but he did\n",
      " not like the place\n",
      ". Tall trees rose\n",
      " all about, their\n"
     ]
    }
   ],
   "source": [
    "\n",
    "# needs inputs to turn into a list before decoding\n",
    "for row in inputs:\n",
    "    print( tokenizer.decode( row.tolist() ) )\n"
   ]
  },
  {
   "cell_type": "code",
   "execution_count": 110,
   "id": "cb8ad63f",
   "metadata": {},
   "outputs": [
    {
     "name": "stdout",
     "output_type": "stream",
     "text": [
      "Parameter containing:\n",
      "tensor([[-1.6419,  0.4539,  0.5244, -1.0051,  0.1259, -0.2979,  0.9161,  1.4429],\n",
      "        [ 0.4693, -0.5049,  0.7408,  0.2740,  1.7436,  0.1419, -0.3101,  0.2015],\n",
      "        [ 2.1423, -0.8404, -0.8767,  0.5941,  0.7905,  0.3133,  0.5227, -1.0171],\n",
      "        [ 0.6914, -0.5581,  1.7775,  1.1747,  0.3262,  1.2015,  1.0287, -0.2045]],\n",
      "       requires_grad=True)\n"
     ]
    }
   ],
   "source": [
    "#embedding layer \n",
    "vocab_size = 4\n",
    "output_dim = 8\n",
    "\n",
    "embedding_inputs =  torch.nn.Embedding(vocab_size, output_dim)\n",
    "print(embedding_inputs.weight) \n",
    "\n",
    "#these vectors are so important because it allows the model to know where certain tokens have \n",
    "# interactions with others, ie: when many sentences follow a similar path, \n",
    "# it recognizes that pattern, and the E vector allows that to be seen\n"
   ]
  },
  {
   "cell_type": "code",
   "execution_count": 111,
   "id": "98b146db",
   "metadata": {},
   "outputs": [
    {
     "data": {
      "text/plain": [
       "tensor([[-1.6419,  0.4539,  0.5244, -1.0051,  0.1259, -0.2979,  0.9161,  1.4429],\n",
       "        [ 0.4693, -0.5049,  0.7408,  0.2740,  1.7436,  0.1419, -0.3101,  0.2015],\n",
       "        [ 2.1423, -0.8404, -0.8767,  0.5941,  0.7905,  0.3133,  0.5227, -1.0171],\n",
       "        [ 0.6914, -0.5581,  1.7775,  1.1747,  0.3262,  1.2015,  1.0287, -0.2045]])"
      ]
     },
     "execution_count": 111,
     "metadata": {},
     "output_type": "execute_result"
    }
   ],
   "source": [
    "#get the weights of embedding_inputs\n",
    "input_weights = embedding_inputs.weight.data\n",
    "input_weights"
   ]
  },
  {
   "cell_type": "code",
   "execution_count": 112,
   "id": "6a984c9a",
   "metadata": {},
   "outputs": [
    {
     "name": "stdout",
     "output_type": "stream",
     "text": [
      "tensor([-5.9385,  1.9987,  8.4484,  2.4698])\n"
     ]
    }
   ],
   "source": [
    "# use query for embedding vector\n",
    "\n",
    "query = input_weights[2]\n",
    "\n",
    "#calculate attention scores w the snippet from in class use dot product\n",
    "attention_scores2 = torch.empty(len(input_weights))\n",
    "for i in range(len(input_weights)):\n",
    "    attention_scores2[i] = torch.dot(query,input_weights[i])\n",
    "print(attention_scores2)"
   ]
  },
  {
   "cell_type": "code",
   "execution_count": 113,
   "id": "988f4023",
   "metadata": {},
   "outputs": [
    {
     "data": {
      "text/plain": [
       "tensor([5.6241e-07, 1.5746e-03, 9.9590e-01, 2.5221e-03])"
      ]
     },
     "execution_count": 113,
     "metadata": {},
     "output_type": "execute_result"
    }
   ],
   "source": [
    "#normalize using softmax function\n",
    "attention_weights_2 = torch.softmax(attention_scores2, dim = 0)\n",
    "attention_weights_2\n"
   ]
  },
  {
   "cell_type": "code",
   "execution_count": 114,
   "id": "187122d1",
   "metadata": {},
   "outputs": [
    {
     "data": {
      "text/plain": [
       "tensor(1.)"
      ]
     },
     "execution_count": 114,
     "metadata": {},
     "output_type": "execute_result"
    }
   ],
   "source": [
    "#verify our sum = 1\n",
    "attention_weights_2.sum()"
   ]
  },
  {
   "cell_type": "code",
   "execution_count": 115,
   "id": "9b4d3675",
   "metadata": {},
   "outputs": [
    {
     "data": {
      "text/plain": [
       "tensor([ 2.1360, -0.8391, -0.8675,  0.5951,  0.7909,  0.3153,  0.5227, -1.0132])"
      ]
     },
     "execution_count": 115,
     "metadata": {},
     "output_type": "execute_result"
    }
   ],
   "source": [
    "# compute context vectors as the weighted sum with input weight vectors\n",
    "context_vector_2 = torch.zeros (query.shape)\n",
    "for i in range(len(attention_weights_2)):\n",
    "    context_vector_2 += attention_weights_2[i] * input_weights[i]\n",
    "context_vector_2"
   ]
  },
  {
   "cell_type": "code",
   "execution_count": 116,
   "id": "aa8ded42",
   "metadata": {},
   "outputs": [
    {
     "data": {
      "text/plain": [
       "tensor([[ 7.2131, -0.7028, -5.9385, -1.3068],\n",
       "        [-0.7028,  4.2961,  1.9987,  2.6240],\n",
       "        [-5.9385,  1.9987,  8.4484,  2.4698],\n",
       "        [-1.3068,  2.6240,  2.4698,  7.9791]])"
      ]
     },
     "execution_count": 116,
     "metadata": {},
     "output_type": "execute_result"
    }
   ],
   "source": [
    "#get attention scores with matrix multiplication\n",
    "attention_scores_2 = input_weights @ input_weights.T\n",
    "attention_scores_2"
   ]
  },
  {
   "cell_type": "code",
   "execution_count": 117,
   "id": "75a9533b",
   "metadata": {},
   "outputs": [
    {
     "data": {
      "text/plain": [
       "tensor([[9.9943e-01, 3.6470e-04, 1.9413e-06, 1.9935e-04],\n",
       "        [5.2085e-03, 7.7213e-01, 7.7620e-02, 1.4504e-01],\n",
       "        [5.6241e-07, 1.5746e-03, 9.9590e-01, 2.5221e-03],\n",
       "        [9.1908e-05, 4.6823e-03, 4.0135e-03, 9.9121e-01]])"
      ]
     },
     "execution_count": 117,
     "metadata": {},
     "output_type": "execute_result"
    }
   ],
   "source": [
    "#normalize again with softmax to find attention weights\n",
    "attention_weights = torch.softmax(attention_scores_2, dim = -1)\n",
    "attention_weights"
   ]
  },
  {
   "cell_type": "code",
   "execution_count": 118,
   "id": "5cf854a0",
   "metadata": {},
   "outputs": [
    {
     "data": {
      "text/plain": [
       "tensor(1.0000)"
      ]
     },
     "execution_count": 118,
     "metadata": {},
     "output_type": "execute_result"
    }
   ],
   "source": [
    "#make sure the sum =1 \n",
    "attention_weights[0].sum()"
   ]
  },
  {
   "cell_type": "code",
   "execution_count": 119,
   "id": "8fdfa9ce",
   "metadata": {},
   "outputs": [
    {
     "data": {
      "text/plain": [
       "tensor([[-1.6407,  0.4534,  0.5247, -1.0042,  0.1265, -0.2974,  0.9157,  1.4422],\n",
       "        [ 0.6204, -0.5337,  0.7645,  0.4228,  1.4556,  0.3066, -0.0449,  0.0545],\n",
       "        [ 2.1360, -0.8391, -0.8675,  0.5951,  0.7909,  0.3153,  0.5227, -1.0132],\n",
       "        [ 0.6960, -0.5589,  1.7619,  1.1679,  0.3347,  1.1929,  1.0204, -0.2058]])"
      ]
     },
     "execution_count": 119,
     "metadata": {},
     "output_type": "execute_result"
    }
   ],
   "source": [
    "# now we calculate context vectors \n",
    "context_vectors = attention_weights @ input_weights\n",
    "context_vectors"
   ]
  }
 ],
 "metadata": {
  "kernelspec": {
   "display_name": "Python 3",
   "language": "python",
   "name": "python3"
  },
  "language_info": {
   "codemirror_mode": {
    "name": "ipython",
    "version": 3
   },
   "file_extension": ".py",
   "mimetype": "text/x-python",
   "name": "python",
   "nbconvert_exporter": "python",
   "pygments_lexer": "ipython3",
   "version": "3.13.3"
  }
 },
 "nbformat": 4,
 "nbformat_minor": 5
}
