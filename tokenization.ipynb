{
 "cells": [
  {
   "cell_type": "markdown",
   "id": "f592fbb0",
   "metadata": {},
   "source": [
    "# Tokenization\n",
    "\n",
    "_Tokenization_ is the process of converting a body of text into individual _tokens_, e.g., words and punctuation characters. This is the first step for most Natural Language Processing (NLP) tasks, including preparing data for training an LLM. Let's see how it's done!"
   ]
  },
  {
   "cell_type": "markdown",
   "id": "09f17e49",
   "metadata": {},
   "source": [
    "## Some sample text"
   ]
  },
  {
   "cell_type": "code",
   "execution_count": 4,
   "id": "4bc42f87",
   "metadata": {},
   "outputs": [
    {
     "name": "stdout",
     "output_type": "stream",
     "text": [
      "This is a test! Or is this not a test? Test it to be sure. :)\n",
      "This sample text has 61 characters.\n"
     ]
    }
   ],
   "source": [
    "text = \"This is a test! Or is this not a test? Test it to be sure. :)\"\n",
    "print(text)\n",
    "print(f\"This sample text has {len(text)} characters.\")"
   ]
  },
  {
   "cell_type": "code",
   "execution_count": 6,
   "id": "61f1b15a",
   "metadata": {},
   "outputs": [
    {
     "name": "stdout",
     "output_type": "stream",
     "text": [
      "['This', 'is', 'a', 'test!', 'Or', 'is', 'this', 'not', 'a', 'test?', 'Test', 'it', 'to', 'be', 'sure.', ':)']\n"
     ]
    }
   ],
   "source": [
    "print(text.split())"
   ]
  },
  {
   "cell_type": "code",
   "execution_count": 2,
   "id": "8da552ec",
   "metadata": {},
   "outputs": [],
   "source": [
    "import re"
   ]
  },
  {
   "cell_type": "code",
   "execution_count": 10,
   "id": "345ef669",
   "metadata": {},
   "outputs": [
    {
     "name": "stdout",
     "output_type": "stream",
     "text": [
      "['!', ')', '.', ':', '?', 'Or', 'Test', 'This', 'a', 'be', 'is', 'it', 'not', 'sure', 'test', 'this', 'to']\n"
     ]
    }
   ],
   "source": [
    "tokens = re.split(r'([.?!:()]|\\s)', text)\n",
    "tokens = [item for item in tokens if item.split() ]\n",
    "tokens= sorted(list(set(tokens)))\n",
    "print(tokens)\n",
    "\n",
    "\n"
   ]
  },
  {
   "cell_type": "code",
   "execution_count": 11,
   "id": "9d6a52b5",
   "metadata": {},
   "outputs": [
    {
     "name": "stdout",
     "output_type": "stream",
     "text": [
      "dict_items([('!', 0), (')', 1), ('.', 2), (':', 3), ('?', 4), ('Or', 5), ('Test', 6), ('This', 7), ('a', 8), ('be', 9), ('is', 10), ('it', 11), ('not', 12), ('sure', 13), ('test', 14), ('this', 15), ('to', 16)])\n"
     ]
    }
   ],
   "source": [
    "vocab = {token:index for index, token in enumerate(tokens)}\n",
    "print(vocab.items())"
   ]
  },
  {
   "cell_type": "code",
   "execution_count": 12,
   "id": "c338f610",
   "metadata": {},
   "outputs": [
    {
     "data": {
      "text/plain": [
       "6"
      ]
     },
     "execution_count": 12,
     "metadata": {},
     "output_type": "execute_result"
    }
   ],
   "source": [
    "vocab[\"Test\"]"
   ]
  },
  {
   "cell_type": "code",
   "execution_count": 13,
   "id": "ec41c5f3",
   "metadata": {},
   "outputs": [
    {
     "name": "stdout",
     "output_type": "stream",
     "text": [
      "Cororuc glanced about him and hastened his pace. He was no coward, but he did not like the place. Ta\n"
     ]
    }
   ],
   "source": [
    "with open(\"thelostrace.txt\", \"r\") as f:\n",
    "    raw_text = f.read()\n",
    "print(raw_text[:100])"
   ]
  },
  {
   "cell_type": "code",
   "execution_count": 17,
   "id": "02b37a2b",
   "metadata": {},
   "outputs": [
    {
     "name": "stdout",
     "output_type": "stream",
     "text": [
      "5759\n"
     ]
    }
   ],
   "source": [
    "tokens = re.split( r'([.?!:())\"\\'“”‘’^]|\\s)', raw_text)\n",
    "tokens = [item for item in tokens if item.split()]\n",
    "tokens.extend([\"<|unk|>\", \"<|endoftext|>\"])\n",
    "print(len(tokens))"
   ]
  },
  {
   "cell_type": "code",
   "execution_count": 18,
   "id": "ed388ce8",
   "metadata": {},
   "outputs": [
    {
     "name": "stdout",
     "output_type": "stream",
     "text": [
      "1650\n"
     ]
    }
   ],
   "source": [
    "tokens = sorted(list(set(tokens)))\n",
    "print(len(tokens))"
   ]
  },
  {
   "cell_type": "code",
   "execution_count": 19,
   "id": "a7798b31",
   "metadata": {},
   "outputs": [
    {
     "name": "stdout",
     "output_type": "stream",
     "text": [
      "['!', '\"', \"'\", '(', ')', '.', ':', '<|endoftext|>', '<|unk|>', '?', 'A', 'After', 'Again,', 'Ah,', 'Alba,', 'Alban', 'All', 'An', 'And', 'Are']\n"
     ]
    }
   ],
   "source": [
    "print(tokens[:20])\n"
   ]
  },
  {
   "cell_type": "code",
   "execution_count": 21,
   "id": "4cc9287d",
   "metadata": {},
   "outputs": [
    {
     "data": {
      "text/plain": [
       "dict_items([('!', 0), ('\"', 1), (\"'\", 2), ('(', 3), (')', 4), ('.', 5), (':', 6), ('<|endoftext|>', 7), ('<|unk|>', 8), ('?', 9), ('A', 10), ('After', 11), ('Again,', 12), ('Ah,', 13), ('Alba,', 14), ('Alban', 15), ('All', 16), ('An', 17), ('And', 18), ('Are', 19), ('As', 20), ('At', 21), ('Backed', 22), ('Be', 23), ('Before', 24), ('BelgÃ¦', 25), ('Beneath', 26), ('Berula,', 27), ('Britain', 28), ('Britain,', 29), ('Britainâ€', 30), ('Briton', 31), ('Briton,', 32), ('Britons,', 33), ('Britons;', 34), ('Buruc', 35), ('But', 36), ('Caledonia,', 37), ('Caves', 38), ('Celt', 39), ('Celt,', 40), ('Celt;', 41), ('Celtic', 42), ('Celtic,', 43), ('Celts', 44), ('Close', 45), ('Cold', 46), ('Come,', 47), ('Cornish', 48), ('Cornishmen', 49), ('Cornwall', 50), ('Cororuc', 51), ('Cororuc,', 52), ('Cruel,', 53), ('Doubtless', 54), ('Down', 55), ('Erin,', 56), ('Eternity', 57), ('Every', 58), ('Faint', 59), ('Farther', 60), ('For', 61), ('From', 62), ('Gael,', 63), ('Gaelic', 64), ('Gaels', 65), ('Gaels,', 66), ('Gallia', 67), ('Gifts', 68), ('Gliding', 69), ('Gliding,', 70), ('Had', 71), ('Harken,', 72), ('He', 73), ('Here', 74), ('Here,', 75), ('Higher', 76), ('His', 77), ('How', 78), ('I', 79), ('If', 80), ('In', 81), ('Indeed,', 82), ('Inland', 83), ('Ireland', 84), ('Ireland,', 85), ('It', 86), ('Just', 87), ('Knowing', 88), ('Light', 89), ('Little', 90), ('Look', 91), ('Look,', 92), ('Man', 93), ('Many', 94), ('Men', 95), ('Mighty', 96), ('Miles', 97), ('Neandertal', 98), ('Never', 99), ('No', 100), ('Nordic', 101), ('Not', 102), ('Nothing', 103), ('Occasionally,', 104), ('Of', 105), ('On', 106), ('Once', 107), ('One', 108), ('Only', 109), ('Other', 110), ('Our', 111), ('Over', 112), ('Pict', 113), ('Pict,', 114), ('Pict;', 115), ('Pictish', 116), ('Picts', 117), ('Picts,', 118), ('Presently', 119), ('Rather', 120), ('Savage,', 121), ('Scarce', 122), ('Sea', 123), ('Seize', 124), ('Shall', 125), ('She', 126), ('Siluria,', 127), ('Simultaneously', 128), ('Small', 129), ('So', 130), ('So,', 131), ('Some', 132), ('Sometimes', 133), ('Speak,', 134), ('Strange,', 135), ('Surely', 136), ('Swiftly', 137), ('Tales', 138), ('Tall', 139), ('That', 140), ('The', 141), ('Their', 142), ('Then', 143), ('Then,', 144), ('There', 145), ('There,', 146), ('They', 147), ('Those', 148), ('Three', 149), ('Through', 150), ('Time', 151), ('To', 152), ('Two', 153), ('Unbind', 154), ('Wales', 155), ('Walk', 156), ('Was', 157), ('We', 158), ('We,', 159), ('Well', 160), ('What', 161), ('When', 162), ('Who', 163), ('Why', 164), ('Why,', 165), ('Without', 166), ('Words', 167), ('Yes,', 168), ('You', 169), ('You,', 170), ('a', 171), ('aback,', 172), ('ability', 173), ('able', 174), ('about', 175), ('about,', 176), ('above', 177), ('abrupt', 178), ('abuse', 179), ('accepted', 180), ('accouterments,', 181), ('accusation,', 182), ('admiration', 183), ('after', 184), ('again', 185), ('again,', 186), ('against', 187), ('age', 188), ('age,', 189), ('age-old', 190), ('aged', 191), ('ages', 192), ('ages;', 193), ('ago', 194), ('ago,', 195), ('ahead', 196), ('ahead,', 197), ('air', 198), ('all', 199), ('all,', 200), ('allow', 201), ('allowing', 202), ('almost', 203), ('alone', 204), ('alone;', 205), ('along', 206), ('along,', 207), ('already', 208), ('also', 209), ('altogether', 210), ('always', 211), ('am', 212), ('among', 213), ('an', 214), ('ancient', 215), ('ancient,', 216), ('and', 217), ('anew', 218), ('animals,', 219), ('animals;', 220), ('another', 221), ('answered', 222), ('antiquity', 223), ('any', 224), ('appeared', 225), ('appearing', 226), ('arched', 227), ('are', 228), ('arm', 229), ('arm,', 230), ('armed', 231), ('arms', 232), ('arose', 233), ('around', 234), ('around,', 235), ('arranged,', 236), ('arrows', 237), ('arrows,', 238), ('art', 239), ('artistry', 240), ('arts', 241), ('as', 242), ('as,', 243), ('ascent,', 244), ('aside', 245), ('asked', 246), ('assured', 247), ('astray', 248), ('at', 249), ('attempting', 250), ('attitude', 251), ('aversion', 252), ('avoid', 253), ('avoided', 254), ('aware', 255), ('away', 256), ('away,', 257), ('babe', 258), ('back', 259), ('back,', 260), ('backed', 261), ('backward', 262), ('band', 263), ('banded', 264), ('bandit', 265), ('bandits', 266), ('bank', 267), ('barbarian,', 268), ('barbarians,', 269), ('barely', 270), ('battle', 271), ('bay,', 272), ('be', 273), ('beaded', 274), ('beady', 275), ('beaklike', 276), ('beard', 277), ('beard,', 278), ('beardless', 279), ('beast', 280), ('beasts', 281), ('beasts,', 282), ('beat', 283), ('beating', 284), ('became', 285), ('become', 286), ('been', 287), ('before', 288), ('began', 289), ('begins', 290), ('behind', 291), ('being', 292), ('believed', 293), ('bellowed', 294), ('belts,', 295), ('beneath', 296), ('benefit', 297), ('better', 298), ('between', 299), ('between,', 300), ('bewildered', 301), ('big,', 302), ('bind', 303), ('birds,', 304), ('black', 305), ('black;', 306), ('blank', 307), ('blood', 308), ('blood-lusting,', 309), ('blow', 310), ('blows', 311), ('blue', 312), ('blundered', 313), ('boats', 314), ('bodies', 315), ('body', 316), ('bold', 317), ('bole,', 318), ('bonds', 319), ('bore', 320), ('borne', 321), ('both', 322), ('boulder', 323), ('boulder,', 324), ('bound', 325), ('bound,', 326), ('bounding', 327), ('bow', 328), ('bows,', 329), ('bracing', 330), ('branch', 331), ('branch,', 332), ('branched', 333), ('branches', 334), ('bridge,', 335), ('bristle', 336), ('bristled', 337), ('broadsword,', 338), ('broke', 339), ('bronze', 340), ('bronze,', 341), ('buckskin', 342), ('buffalo', 343), ('build', 344), ('built', 345), ('built,', 346), ('burly', 347), ('burn', 348), ('burned', 349), ('burned,', 350), ('burning', 351), ('burrow', 352), ('burst', 353), ('bush', 354), ('bushes', 355), ('bushes,', 356), ('but', 357), ('butâ€', 358), ('by', 359), ('call', 360), ('calling', 361), ('came', 362), ('came,', 363), ('can', 364), ('captives,', 365), ('captors', 366), ('cared,', 367), ('carried', 368), ('cat', 369), ('catch', 370), ('caught', 371), ('cause', 372), ('cave', 373), ('cave,', 374), ('cavern', 375), ('cavern,', 376), ('caverns', 377), ('caverns,', 378), ('caves', 379), ('caves,', 380), ('ceased', 381), ('centuries', 382), ('certain', 383), ('chance', 384), ('change', 385), ('characteristically', 386), ('charred', 387), ('cheeks', 388), ('chief', 389), ('chief,', 390), ('child', 391), ('chirping', 392), ('chivalry', 393), ('chose', 394), ('circular,', 395), ('city', 396), ('clad', 397), ('clawlike', 398), ('clear,', 399), ('cleared', 400), ('clearly,', 401), ('cliff,', 402), ('cliffs', 403), ('climbed', 404), ('close', 405), ('cloth', 406), ('cloth;', 407), ('clothed', 408), ('clutching', 409), ('coarse', 410), ('cold', 411), ('come', 412), ('coming', 413), ('command,', 414), ('comparative', 415), ('complexion', 416), ('comrades', 417), ('conflict', 418), ('conquer', 419), ('conquered', 420), ('conquered,', 421), ('content', 422), ('continued;', 423), ('contrast,', 424), ('coracles', 425), ('cordon', 426), ('cordon,', 427), ('cords', 428), ('could', 429), ('count', 430), ('country', 431), ('courage', 432), ('course,', 433), ('course;', 434), ('court', 435), ('covered', 436), ('covert,', 437), ('coward,', 438), ('crashing', 439), ('crooked', 440), ('crouched', 441), ('crouching', 442), ('crouching;', 443), ('crude', 444), ('crudely', 445), ('curiosity', 446), ('current', 447), ('curse', 448), ('cursed', 449), ('curses,', 450), ('custom', 451), ('cut', 452), ('dagger', 453), ('daggers,', 454), ('daily', 455), ('danced', 456), ('danced,', 457), ('daring', 458), ('dark', 459), ('darkness', 460), ('darkness,', 461), ('darted', 462), ('darting', 463), ('dauntless', 464), ('day', 465), ('day,', 466), ('daze,', 467), ('debouched', 468), ('debt', 469), ('debts,', 470), ('deed,', 471), ('deeds', 472), ('deer', 473), ('deer,', 474), ('deerskin,', 475), ('deerskins,', 476), ('defile', 477), ('defined', 478), ('deflected', 479), ('descend', 480), ('descend,', 481), ('descriptions', 482), ('desiring', 483), ('determination', 484), ('devices', 485), ('did', 486), ('did,', 487), ('difference', 488), ('dim', 489), ('direction', 490), ('direction,', 491), ('directly', 492), ('disappeared', 493), ('disappearing', 494), ('disclosing', 495), ('distance', 496), ('distance,', 497), ('do', 498), ('does', 499), ('doings,', 500), ('done,', 501), ('doubt', 502), ('down', 503), ('down,', 504), ('dozen', 505), ('draft,', 506), ('drawing', 507), ('dreamy', 508), ('dressed', 509), ('drew', 510), ('driven', 511), ('driving', 512), ('drove', 513), ('drunk', 514), ('due', 515), ('dwarfish', 516), ('dwarfs', 517), ('dwarfs,', 518), ('dwell', 519), ('dwellings,', 520), ('dwelt', 521), ('each', 522), ('early', 523), ('earth', 524), ('earth-rats', 525), ('earth;', 526), ('east,', 527), ('east;', 528), ('eastward', 529), ('eastward;', 530), ('echoed', 531), ('edge', 532), ('efficient', 533), ('eluded', 534), ('elves', 535), ('elves,', 536), ('emerged', 537), ('enemies', 538), ('enemy,', 539), ('engaged', 540), ('enjoying', 541), ('enslaved', 542), ('ensnare', 543), ('enter', 544), ('entered', 545), ('entering', 546), ('entire,', 547), ('equal', 548), ('equally', 549), ('ere', 550), ('erect', 551), ('escaped', 552), ('especial', 553), ('eternity', 554), ('even', 555), ('ever', 556), ('ever,', 557), ('everlasting', 558), ('every', 559), ('evidently', 560), ('except', 561), ('excitement', 562), ('exciting', 563), ('exclaimed', 564), ('exile', 565), ('expect', 566), ('expected', 567), ('exposed,', 568), ('extent', 569), ('extremely', 570), ('exultation', 571), ('exulted', 572), ('eye', 573), ('eye,', 574), ('eyeing', 575), ('eyes', 576), ('eyes,', 577), ('face', 578), ('fact', 579), ('fact,', 580), ('fade', 581), ('fagots', 582), ('faintly', 583), ('fair', 584), ('fairies,', 585), ('fairly', 586), ('falls', 587), ('fanatical', 588), ('far', 589), ('far,', 590), ('far-off', 591), ('farther', 592), ('fear;', 593), ('feel', 594), ('feeling', 595), ('feet', 596), ('feet,', 597), ('fell', 598), ('fell,', 599), ('fellow', 600), ('fellow,', 601), ('fellows', 602), ('felt', 603), ('fence', 604), ('fertile', 605), ('few', 606), ('fiendish,', 607), ('fierce', 608), ('fiercely,', 609), ('fight', 610), ('fight,', 611), ('fighters', 612), ('figure', 613), ('filled', 614), ('find', 615), ('fine', 616), ('finely', 617), ('finest', 618), ('fingers,', 619), ('finish', 620), ('fire', 621), ('firelight', 622), ('firelit', 623), ('fires', 624), ('fires,', 625), ('firewood', 626), ('first', 627), ('fishing', 628), ('five', 629), ('fixed', 630), ('fled', 631), ('fled,', 632), ('flee', 633), ('flew', 634), ('flickered', 635), ('flickered;', 636), ('flight', 637), ('flights', 638), ('flint', 639), ('flocked', 640), ('floor', 641), ('floor,', 642), ('flowed', 643), ('flowing', 644), ('focused', 645), ('foe', 646), ('foe,', 647), ('foliage', 648), ('follow', 649), ('followed', 650), ('following', 651), ('following,', 652), ('food', 653), ('foot', 654), ('foot,', 655), ('for', 656), ('forbidding', 657), ('forbidding-looking', 658), ('forced', 659), ('forehead', 660), ('forest', 661), ('forest,', 662), ('forgets', 663), ('forgetting', 664), ('forth', 665), ('forward', 666), ('forward,', 667), ('fought', 668), ('foul', 669), ('found', 670), ('found,', 671), ('four', 672), ('free', 673), ('free,', 674), ('friend,', 675), ('friendly', 676), ('from', 677), ('front', 678), ('front,', 679), ('full', 680), ('fullest', 681), ('furious', 682), ('furtively', 683), ('gaining', 684), ('gait', 685), ('garment', 686), ('garments', 687), ('garments;', 688), ('gashes', 689), ('gasp', 690), ('gasped,', 691), ('gaze', 692), ('gazing', 693), ('generations', 694), ('gesture,', 695), ('get', 696), ('giant', 697), ('giants', 698), ('giants,', 699), ('gifts', 700), ('girls,', 701), ('give', 702), ('glade', 703), ('glance', 704), ('glanced', 705), ('glances', 706), ('gleamed', 707), ('gleaming', 708), ('glided', 709), ('glint', 710), ('glittering', 711), ('glories', 712), ('glow', 713), ('glow,', 714), ('glowed', 715), ('go', 716), ('go,', 717), ('goblins', 718), ('gods', 719), ('going', 720), ('gone', 721), ('gone,', 722), ('grandeur', 723), ('grandeur,', 724), ('gray', 725), ('great', 726), ('greatest;', 727), ('greatly', 728), ('grip', 729), ('ground', 730), ('ground,', 731), ('guide', 732), ('habitation', 733), ('hack,', 734), ('had', 735), ('hair', 736), ('hairs', 737), ('half', 738), ('halted,', 739), ('hand', 740), ('hands', 741), ('hard', 742), ('harken,', 743), ('harm,', 744), ('harmed', 745), ('has', 746), ('haste', 747), ('hasten,', 748), ('hastened', 749), ('hate,', 750), ('hatred', 751), ('haunt', 752), ('have', 753), ('hawk', 754), ('he', 755), ('he,', 756), ('head', 757), ('head,', 758), ('headlong', 759), ('heap', 760), ('hear', 761), ('heard', 762), ('height,', 763), ('held', 764), ('helmet', 765), ('here', 766), ('hesitant', 767), ('hesitated', 768), ('hesitated,', 769), ('hidden', 770), ('hide', 771), ('hideously', 772), ('hides', 773), ('hiding', 774), ('hiding;', 775), ('high', 776), ('highest', 777), ('hill', 778), ('hills', 779), ('hills,', 780), ('him', 781), ('him,', 782), ('him;', 783), ('himself', 784), ('hind', 785), ('hint', 786), ('hinted', 787), ('his', 788), ('hold', 789), ('hooked,', 790), ('horn', 791), ('horror', 792), ('horror,', 793), ('hospitality,', 794), ('hour', 795), ('hours', 796), ('how', 797), ('human', 798), ('human,', 799), ('hundred', 800), ('hunt', 801), ('hunted', 802), ('hunters', 803), ('hurry', 804), ('huts', 805), ('if', 806), ('immortality;', 807), ('impatient', 808), ('impressive', 809), ('impulse', 810), ('in', 811), ('in;', 812), ('incredible', 813), ('indignities,', 814), ('ingratitude', 815), ('inhospitable', 816), ('inhuman,', 817), ('instant', 818), ('instant,', 819), ('into', 820), ('invisible', 821), ('is', 822), ('islands,', 823), ('isles', 824), ('it', 825), ('it,', 826), ('its', 827), ('journey', 828), ('judge', 829), ('just', 830), ('keep', 831), ('kind', 832), ('king', 833), ('king,', 834), ('kings', 835), ('knew', 836), ('knocking', 837), ('know', 838), ('known', 839), ('land', 840), ('land,', 841), ('landed', 842), ('landed,', 843), ('language', 844), ('language,', 845), ('lanky,', 846), ('lapped', 847), ('large', 848), ('last', 849), ('laughed', 850), ('lay', 851), ('leading', 852), ('leafy', 853), ('league', 854), ('leanly', 855), ('leap', 856), ('leaped', 857), ('learn', 858), ('learned', 859), ('least', 860), ('leave', 861), ('led', 862), ('left', 863), ('legs', 864), ('leisure', 865), ('less', 866), ('lest', 867), ('let', 868), ('level', 869), ('life', 870), ('lifetime', 871), ('lifted', 872), ('lifted,', 873), ('light', 874), ('light,', 875), ('like', 876), ('line', 877), ('lingered', 878), ('little', 879), ('live', 880), ('lives', 881), ('loam', 882), ('logs', 883), ('long', 884), ('long,', 885), ('longed', 886), ('looked', 887), ('looking', 888), ('loosened', 889), ('lords', 890), ('losing', 891), ('lost', 892), ('lurk,', 893), ('lurked', 894), ('lust', 895), ('lying', 896), ('mad;', 897), ('made', 898), ('made,', 899), ('magic', 900), ('main', 901), ('make', 902), ('make,', 903), ('makes', 904), ('malevolent', 905), ('malevolent,', 906), ('maliciousness', 907), ('man', 908), ('man,', 909), ('man-made', 910), ('managed', 911), ('manner', 912), ('many', 913), ('many,', 914), ('marched', 915), ('marked', 916), ('marks', 917), ('massive', 918), ('matter', 919), ('may', 920), ('may,', 921), ('me', 922), ('me,', 923), ('meant', 924), ('men', 925), ('men,', 926), ('menace', 927), ('mending', 928), ('mercy;', 929), ('merely', 930), ('merged', 931), ('merrily', 932), ('met', 933), ('midair,', 934), ('might', 935), ('mighty', 936), ('mighty,', 937), ('miles', 938), ('mind', 939), ('mind,', 940), ('minds', 941), ('mine', 942), ('mine,', 943), ('mingled', 944), ('mingling', 945), ('minute', 946), ('minutes', 947), ('misshapen;', 948), ('mission', 949), ('moles', 950), ('moment', 951), ('monster', 952), ('monsters', 953), ('monstrous', 954), ('moonlight', 955), ('mop', 956), ('more', 957), ('most', 958), ('motionless,', 959), ('mountain', 960), ('mountains', 961), ('mountains,', 962), ('moved', 963), ('moved,', 964), ('much', 965), ('murderer', 966), ('murmured', 967), ('must', 968), ('my', 969), ('mysteries', 970), ('mystery', 971), ('nameless', 972), ('nation', 973), ('native', 974), ('natural', 975), ('near', 976), ('nearer', 977), ('nearly', 978), ('neck', 979), ('neck-hairs', 980), ('neither', 981), ('nerve', 982), ('never', 983), ('next', 984), ('niche', 985), ('night', 986), ('no', 987), ('nodded', 988), ('none', 989), ('nor', 990), ('north', 991), ('north,', 992), ('nose', 993), ('not', 994), ('note', 995), ('nothing', 996), ('nothing,', 997), ('noticed', 998), ('now', 999), ('object', 1000), ('oblivion', 1001), ('obsidian', 1002), ('obsidian,', 1003), ('occupations', 1004), ('ocean', 1005), ('ocher', 1006), ('of', 1007), ('off', 1008), ('often', 1009), ('ogres', 1010), ('old', 1011), ('on', 1012), ('once', 1013), ('one', 1014), ('one,', 1015), ('one-eyed', 1016), ('only', 1017), ('opportunity', 1018), ('or', 1019), ('oration,', 1020), ('other', 1021), ('other,', 1022), ('others', 1023), ('others,', 1024), ('our', 1025), ('out', 1026), ('out,', 1027), ('outer', 1028), ('outlaws,', 1029), ('outlived', 1030), ('outside', 1031), ('outstretched', 1032), ('over', 1033), ('owes', 1034), ('own', 1035), ('pace', 1036), ('paid', 1037), ('painted', 1038), ('paintings,', 1039), ('panther', 1040), ('panther,', 1041), ('part', 1042), ('party', 1043), ('pass', 1044), ('passed', 1045), ('passing', 1046), ('past', 1047), ('path', 1048), ('patriot', 1049), ('pausing', 1050), ('pay', 1051), ('pay,', 1052), ('payment', 1053), ('peace', 1054), ('peered', 1055), ('peering', 1056), ('people', 1057), ('people,', 1058), ('perfected', 1059), ('perhaps', 1060), ('picked', 1061), ('piled', 1062), ('piling', 1063), ('pitch', 1064), ('place', 1065), ('place,', 1066), ('places,', 1067), ('plainly', 1068), ('plains', 1069), ('played', 1070), ('pleasant', 1071), ('plundering', 1072), ('plunged', 1073), ('pointed,', 1074), ('pointing', 1075), ('pointing,', 1076), ('positive', 1077), ('possible,', 1078), ('post', 1079), ('post,', 1080), ('power', 1081), ('powerful', 1082), ('practical', 1083), ('preferred', 1084), ('preferring', 1085), ('preparing', 1086), ('presently', 1087), ('presently,', 1088), ('pressed', 1089), ('pride,', 1090), ('prisoner', 1091), ('prosperous', 1092), ('protested;', 1093), ('pulled', 1094), ('pure', 1095), ('purpose', 1096), ('pursue', 1097), ('pursuers', 1098), ('pushed', 1099), ('put', 1100), ('puzzled', 1101), ('quench', 1102), ('question', 1103), ('quickened', 1104), ('quickly', 1105), ('rabbits', 1106), ('race', 1107), ('race,', 1108), ('race;', 1109), ('raced', 1110), ('racial', 1111), ('rage', 1112), ('raised', 1113), ('ran,', 1114), ('ranges', 1115), ('ravine', 1116), ('ravine,', 1117), ('ravines', 1118), ('ravines,', 1119), ('ravished', 1120), ('ready', 1121), ('really', 1122), ('rebuilds', 1123), ('recede', 1124), ('reckless', 1125), ('reckon', 1126), ('recovered', 1127), ('red', 1128), ('red-haired', 1129), ('reeling', 1130), ('reflecting', 1131), ('reflections', 1132), ('regularly', 1133), ('rejected,', 1134), ('released,', 1135), ('relief;', 1136), ('remained', 1137), ('remained,', 1138), ('remember', 1139), ('remembers', 1140), ('remnants', 1141), ('replenishing', 1142), ('replied', 1143), ('reply', 1144), ('reputed', 1145), ('rescued', 1146), ('rested', 1147), ('result', 1148), ('resulted', 1149), ('retort', 1150), ('retreated', 1151), ('returned', 1152), ('revealing,', 1153), ('revenge,', 1154), ('reverberate', 1155), ('rich', 1156), ('rift', 1157), ('rimmed', 1158), ('rises', 1159), ('rising,', 1160), ('risked', 1161), ('river', 1162), ('river,', 1163), ('river;', 1164), ('roof', 1165), ('rose', 1166), ('rose;', 1167), ('rough', 1168), ('roughly', 1169), ('round', 1170), ('rounded', 1171), ('roused', 1172), ('rude', 1173), ('ruled', 1174), ('ruminate', 1175), ('run,', 1176), ('running', 1177), ('rushed', 1178), ('rushing,', 1179), ('s', 1180), ('said', 1181), ('said,', 1182), ('sail', 1183), ('sallied', 1184), ('same', 1185), ('sandals', 1186), ('satisfied', 1187), ('savage', 1188), ('savages', 1189), ('save', 1190), ('saw', 1191), ('saw,', 1192), ('say', 1193), ('scampering', 1194), ('scant', 1195), ('scene', 1196), ('scoundrel,', 1197), ('scourge', 1198), ('scrape', 1199), ('screams', 1200), ('screech', 1201), ('scurry', 1202), ('sea', 1203), ('seat', 1204), ('seat,', 1205), ('seated', 1206), ('secret', 1207), ('see', 1208), ('seeing', 1209), ('seemed', 1210), ('seeming', 1211), ('seemingly', 1212), ('seen', 1213), ('seized', 1214), ('seized,', 1215), ('seizing', 1216), ('seldom', 1217), ('senseless', 1218), ('senses,', 1219), ('set', 1220), ('sets,', 1221), ('shadows', 1222), ('shaken,', 1223), ('shall', 1224), ('shambling', 1225), ('she', 1226), ('sheath,', 1227), ('shed', 1228), ('sheer', 1229), ('shield', 1230), ('shield,', 1231), ('shifted', 1232), ('short', 1233), ('short,', 1234), ('should', 1235), ('shoulder,', 1236), ('shoulder;', 1237), ('shoulders', 1238), ('shoulders,', 1239), ('shout', 1240), ('shouting,', 1241), ('show', 1242), ('showed', 1243), ('shrewd,', 1244), ('shriek', 1245), ('shrieks', 1246), ('shuddered,', 1247), ('shutting', 1248), ('side', 1249), ('sides', 1250), ('sight', 1251), ('sighted', 1252), ('sign', 1253), ('silent', 1254), ('silent,', 1255), ('silently', 1256), ('silently,', 1257), ('simplicity,', 1258), ('sincere', 1259), ('single,', 1260), ('six', 1261), ('size', 1262), ('skilfully', 1263), ('skill', 1264), ('skinny,', 1265), ('skirting', 1266), ('sky', 1267), ('slash,', 1268), ('slaughtered,', 1269), ('slaying', 1270), ('slip', 1271), ('slipped', 1272), ('slippery', 1273), ('slipping', 1274), ('slowly', 1275), ('small', 1276), ('small,', 1277), ('smaller', 1278), ('smokes', 1279), ('snarls', 1280), ('snow', 1281), ('snow-topped', 1282), ('so', 1283), ('soft', 1284), ('softly,', 1285), ('soil', 1286), ('soil,', 1287), ('somberly', 1288), ('some', 1289), ('something', 1290), ('sometimes', 1291), ('somewhat', 1292), ('somewhere', 1293), ('soon', 1294), ('sort', 1295), ('sought', 1296), ('soul,', 1297), ('sound;', 1298), ('sounds', 1299), ('south', 1300), ('spanned', 1301), ('speak', 1302), ('speaking', 1303), ('spear', 1304), ('spearpoint', 1305), ('spears', 1306), ('speeding', 1307), ('spent', 1308), ('spite', 1309), ('spoken,', 1310), ('spread', 1311), ('spring', 1312), ('spring,', 1313), ('spun', 1314), ('squinted', 1315), ('squinting', 1316), ('stab,', 1317), ('stabbed', 1318), ('stake', 1319), ('stammer', 1320), ('stammered', 1321), ('stared,', 1322), ('stares', 1323), ('starlit', 1324), ('stars', 1325), ('stars,', 1326), ('started', 1327), ('starting', 1328), ('startled', 1329), ('stay', 1330), ('steal', 1331), ('steep', 1332), ('step', 1333), ('stepped', 1334), ('stern', 1335), ('sternly', 1336), ('still', 1337), ('still,', 1338), ('stone', 1339), ('stood', 1340), ('stooped', 1341), ('stop', 1342), ('stopped', 1343), ('straight', 1344), ('straightforward,', 1345), ('strange', 1346), ('strange,', 1347), ('striving', 1348), ('strode', 1349), ('strong', 1350), ('strong,', 1351), ('stronger', 1352), ('strongly', 1353), ('struck', 1354), ('struggling', 1355), ('strung', 1356), ('successful,', 1357), ('such', 1358), ('suddenly,', 1359), ('sufficiently', 1360), ('sullen', 1361), ('sun', 1362), ('sun,', 1363), ('sunlight', 1364), ('supernatural', 1365), ('supposed', 1366), ('surface', 1367), ('surprized', 1368), ('surprizing', 1369), ('surrounded', 1370), ('sweat', 1371), ('swept', 1372), ('swift', 1373), ('swiftly', 1374), ('swiftly,', 1375), ('sword', 1376), ('swordsmen', 1377), ('swore', 1378), ('tableau', 1379), ('take', 1380), ('taken', 1381), ('taking', 1382), ('tale', 1383), ('tales', 1384), ('talking', 1385), ('tall', 1386), ('tallest,', 1387), ('talons', 1388), ('tasks', 1389), ('tasks,', 1390), ('tattooed', 1391), ('tediously', 1392), ('tell', 1393), ('terrific', 1394), ('territory', 1395), ('than', 1396), ('thanks,', 1397), ('that', 1398), ('the', 1399), ('their', 1400), ('them', 1401), ('them,', 1402), ('themselves', 1403), ('then', 1404), ('thenâ€', 1405), ('there', 1406), ('there,', 1407), ('these', 1408), ('they', 1409), ('thing', 1410), ('thing,', 1411), ('thinning', 1412), ('thirst', 1413), ('this', 1414), ('thongs', 1415), ('those', 1416), ('though', 1417), ('thought', 1418), ('thousand', 1419), ('threw', 1420), ('thrilled', 1421), ('throne,', 1422), ('throne;', 1423), ('throng', 1424), ('throng,', 1425), ('through', 1426), ('throwing', 1427), ('thrown', 1428), ('thrust', 1429), ('thus', 1430), ('tier', 1431), ('tilled', 1432), ('tilted', 1433), ('time', 1434), ('time,', 1435), ('time;', 1436), ('times', 1437), ('tipped', 1438), ('to', 1439), ('today,', 1440), ('together', 1441), ('told', 1442), ('tone,', 1443), ('took', 1444), ('top', 1445), ('topmost', 1446), ('torch', 1447), ('torches', 1448), ('touch', 1449), ('touched', 1450), ('tough', 1451), ('toward', 1452), ('towered', 1453), ('towering', 1454), ('trace', 1455), ('tracks', 1456), ('traders', 1457), ('trail', 1458), ('trail,', 1459), ('trails', 1460), ('travel,', 1461), ('traverse', 1462), ('tree', 1463), ('tree,', 1464), ('tree-tops', 1465), ('trees', 1466), ('trees;', 1467), ('tribesmen,', 1468), ('tribesmen;', 1469), ('trickling', 1470), ('tried', 1471), ('trip,', 1472), ('trod', 1473), ('trolls', 1474), ('true', 1475), ('trying', 1476), ('tugging', 1477), ('turn', 1478), ('turn,', 1479), ('turned', 1480), ('turning,', 1481), ('twenty', 1482), ('twice', 1483), ('two', 1484), ('type', 1485), ('unaware,', 1486), ('unbroken', 1487), ('uncanny', 1488), ('uncomprehending', 1489), ('under', 1490), ('underground', 1491), ('understand', 1492), ('understood', 1493), ('uninhabited', 1494), ('unknown', 1495), ('unreal;', 1496), ('unseen', 1497), ('until', 1498), ('up', 1499), ('up,', 1500), ('upon', 1501), ('upright', 1502), ('upward', 1503), ('us', 1504), ('use', 1505), ('used', 1506), ('uselessness', 1507), ('using', 1508), ('usually', 1509), ('uttered', 1510), ('vague', 1511), ('vaguely', 1512), ('vanish', 1513), ('vanish;', 1514), ('vanished', 1515), ('vanishing', 1516), ('vast', 1517), ('vastly', 1518), ('vengeance', 1519), ('vengeance;', 1520), ('very', 1521), ('vicinity', 1522), ('victims', 1523), ('view', 1524), ('village', 1525), ('villages', 1526), ('villages,', 1527), ('villain', 1528), ('villainous', 1529), ('villainous-looking', 1530), ('vine', 1531), ('vines', 1532), ('virtually', 1533), ('voice', 1534), ('voice,', 1535), ('voices', 1536), ('walked', 1537), ('walked,', 1538), ('walking', 1539), ('wall', 1540), ('wall,', 1541), ('walls', 1542), ('warfare', 1543), ('warily', 1544), ('warily,', 1545), ('warped', 1546), ('warped,', 1547), ('warrior', 1548), ('was', 1549), ('was,', 1550), ('watch', 1551), ('watched', 1552), ('watching', 1553), ('wattle', 1554), ('wave', 1555), ('waved', 1556), ('waving', 1557), ('way', 1558), ('we', 1559), ('weaken,', 1560), ('wealthy', 1561), ('weapon;', 1562), ('weapons', 1563), ('weapons,', 1564), ('wearisome', 1565), ('weight', 1566), ('weight;', 1567), ('welcome', 1568), ('well', 1569), ('went', 1570), ('went,', 1571), ('were', 1572), ('were,', 1573), ('werewolves', 1574), ('west', 1575), ('west,', 1576), ('what', 1577), ('when', 1578), ('where', 1579), ('whereas', 1580), ('whether', 1581), ('which', 1582), ('while', 1583), ('whipped', 1584), ('whirled', 1585), ('white', 1586), ('who', 1587), ('whole', 1588), ('whom', 1589), ('whose', 1590), ('why', 1591), ('whyâ€', 1592), ('wide-flung', 1593), ('wild', 1594), ('will', 1595), ('will,', 1596), ('wise', 1597), ('wish', 1598), ('wished', 1599), ('witch', 1600), ('witch-finder,', 1601), ('with', 1602), ('within', 1603), ('without', 1604), ('wizened', 1605), ('woad', 1606), ('wolf', 1607), ('wolf,', 1608), ('wolf-Pict', 1609), ('wolf;', 1610), ('wolfish', 1611), ('wolfskin', 1612), ('wolves,', 1613), ('woman', 1614), ('woman,', 1615), ('women', 1616), ('wondered', 1617), ('wondering', 1618), ('wood', 1619), ('wood,', 1620), ('woodlands', 1621), ('woodlands,', 1622), ('word', 1623), ('words', 1624), ('work', 1625), ('worked', 1626), ('workmanship', 1627), ('world', 1628), ('would', 1629), ('wound', 1630), ('writhed', 1631), ('yards,', 1632), ('ye', 1633), ('years', 1634), ('years;', 1635), ('yellow', 1636), ('yells,', 1637), ('yet', 1638), ('yew', 1639), ('you', 1640), ('you,', 1641), ('young', 1642), ('your', 1643), ('yours', 1644), ('youth', 1645), ('youth,', 1646), ('youths', 1647), ('â€', 1648), ('”', 1649)])"
      ]
     },
     "execution_count": 21,
     "metadata": {},
     "output_type": "execute_result"
    }
   ],
   "source": [
    "vocab= {token:index for index, token in enumerate(tokens)}\n",
    "vocab.items()"
   ]
  },
  {
   "cell_type": "code",
   "execution_count": 22,
   "id": "e52aa4cf",
   "metadata": {},
   "outputs": [
    {
     "name": "stdout",
     "output_type": "stream",
     "text": [
      "['Cororuc', 'glanced', 'about', 'him', 'and', 'hastened', 'his', 'pace', '.', 'He', 'was', 'no', 'coward,', 'but', 'he', 'did', 'not', 'like', 'the', 'place', '.', 'Tall', 'trees', 'rose', 'all', 'about,', 'their', 'sullen', 'branches', 'shutting', 'out', 'the', 'sunlight', '.', 'The', 'dim', 'trail', 'led', 'in', 'and', 'out', 'among', 'them,', 'sometimes', 'skirting', 'the', 'edge', 'of', 'a', 'ravine,', 'where', 'Cororuc', 'could', 'gaze', 'down', 'at', 'the', 'tree-tops', 'beneath', '.', 'Occasionally,', 'through', 'a', 'rift', 'in', 'the', 'forest,', 'he', 'could', 'see', 'away', 'to', 'the', 'forbidding', 'hills', 'that', 'hinted', 'of', 'the', 'ranges', 'much', 'farther', 'to', 'the', 'west,', 'that', 'were', 'the', 'mountains', 'of', 'Cornwall', '.']\n"
     ]
    }
   ],
   "source": [
    "first_line = (\"Cororuc glanced about him and hastened his pace. He was no coward, but he did not like the place. Tall trees rose all about, their sullen branches shutting out the sunlight. The dim trail led in and out among them, sometimes skirting the edge of a ravine, where Cororuc could gaze down at the tree-tops beneath. Occasionally, through a rift in the forest, he could see away to the forbidding hills that hinted of the ranges much farther to the west, that were the mountains of Cornwall.\")\n",
    "first_line = re.split( r'([.?!:())\"\\'“”‘’^]|\\s)', first_line)\n",
    "first_line = [item for item in first_line if item.split()]\n",
    "print(first_line)"
   ]
  },
  {
   "cell_type": "code",
   "execution_count": 24,
   "id": "8d8bfa0c",
   "metadata": {},
   "outputs": [
    {
     "name": "stdout",
     "output_type": "stream",
     "text": [
      "[51, 705, 175, 781, 217, 749, 788, 1036, 5, 73, 1549, 987, 438, 357, 755, 486, 994, 876, 1399, 1065, 5, 139, 1466, 1166, 199, 176, 1400, 1361, 334, 1248, 1026, 1399, 1364, 5, 141, 489, 1458, 862, 811, 217, 1026, 213, 1402, 1291, 1266, 1399, 532, 1007, 171, 1117, 1579, 51, 429, 692, 503, 249, 1399, 1465, 296, 5, 104, 1426, 171, 1157, 811, 1399, 662, 755, 429, 1208, 256, 1439, 1399, 657, 779, 1398, 787, 1007, 1399, 1115, 965, 592, 1439, 1399, 1576, 1398, 1572, 1399, 961, 1007, 50, 5]\n"
     ]
    }
   ],
   "source": [
    "ids = [ vocab[token] for token in first_line]\n",
    "print(ids)"
   ]
  },
  {
   "cell_type": "code",
   "execution_count": 27,
   "id": "fe011114",
   "metadata": {},
   "outputs": [
    {
     "data": {
      "text/plain": [
       "51"
      ]
     },
     "execution_count": 27,
     "metadata": {},
     "output_type": "execute_result"
    }
   ],
   "source": [
    "vocab [\"Cororuc\"]"
   ]
  },
  {
   "cell_type": "code",
   "execution_count": null,
   "id": "56fbae64",
   "metadata": {},
   "outputs": [],
   "source": [
    "rever_vocab = {index:token for token, index in vocab.items()}"
   ]
  },
  {
   "cell_type": "code",
   "execution_count": null,
   "id": "78e958d6",
   "metadata": {},
   "outputs": [],
   "source": []
  },
  {
   "cell_type": "code",
   "execution_count": null,
   "id": "634f8013",
   "metadata": {},
   "outputs": [],
   "source": []
  },
  {
   "cell_type": "code",
   "execution_count": null,
   "id": "a8f7494e",
   "metadata": {},
   "outputs": [],
   "source": []
  }
 ],
 "metadata": {
  "kernelspec": {
   "display_name": "Python 3",
   "language": "python",
   "name": "python3"
  },
  "language_info": {
   "codemirror_mode": {
    "name": "ipython",
    "version": 3
   },
   "file_extension": ".py",
   "mimetype": "text/x-python",
   "name": "python",
   "nbconvert_exporter": "python",
   "pygments_lexer": "ipython3",
   "version": "3.13.3"
  }
 },
 "nbformat": 4,
 "nbformat_minor": 5
}
