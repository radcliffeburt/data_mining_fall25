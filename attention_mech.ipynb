{
 "cells": [
  {
   "cell_type": "code",
   "execution_count": 1,
   "id": "8ae728a3",
   "metadata": {},
   "outputs": [
    {
     "name": "stderr",
     "output_type": "stream",
     "text": [
      "C:\\Users\\radcl\\AppData\\Roaming\\Python\\Python313\\site-packages\\torch\\_subclasses\\functional_tensor.py:279: UserWarning: Failed to initialize NumPy: No module named 'numpy' (Triggered internally at C:\\actions-runner\\_work\\pytorch\\pytorch\\pytorch\\torch\\csrc\\utils\\tensor_numpy.cpp:81.)\n",
      "  cpu = _conversion_method_template(device=torch.device(\"cpu\"))\n"
     ]
    }
   ],
   "source": [
    "import torch, tiktoken"
   ]
  },
  {
   "cell_type": "code",
   "execution_count": 2,
   "id": "7bf63a4e",
   "metadata": {},
   "outputs": [],
   "source": [
    "raw_text = \"this is an animal\""
   ]
  },
  {
   "cell_type": "code",
   "execution_count": 3,
   "id": "3ada783f",
   "metadata": {},
   "outputs": [],
   "source": [
    "tokenizer = tiktoken.get_encoding(\"gpt2\")"
   ]
  },
  {
   "cell_type": "code",
   "execution_count": null,
   "id": "34567a0b",
   "metadata": {},
   "outputs": [
    {
     "name": "stdout",
     "output_type": "stream",
     "text": [
      "[5661, 318, 281, 5044]\n"
     ]
    }
   ],
   "source": [
    "enc_text = tokenizer.encode(raw_text)\n",
    "print(enc_text) "
   ]
  },
  {
   "cell_type": "code",
   "execution_count": 5,
   "id": "11004ced",
   "metadata": {},
   "outputs": [
    {
     "ename": "NameError",
     "evalue": "name 'inputs' is not defined",
     "output_type": "error",
     "traceback": [
      "\u001b[31m---------------------------------------------------------------------------\u001b[39m",
      "\u001b[31mNameError\u001b[39m                                 Traceback (most recent call last)",
      "\u001b[36mCell\u001b[39m\u001b[36m \u001b[39m\u001b[32mIn[5]\u001b[39m\u001b[32m, line 1\u001b[39m\n\u001b[32m----> \u001b[39m\u001b[32m1\u001b[39m query = \u001b[43minputs\u001b[49m[\u001b[32m2\u001b[39m]\n\u001b[32m      2\u001b[39m \u001b[38;5;28mprint\u001b[39m(query)\n",
      "\u001b[31mNameError\u001b[39m: name 'inputs' is not defined"
     ]
    }
   ],
   "source": [
    "query = inputs[2]\n",
    "print(query)\n"
   ]
  },
  {
   "cell_type": "code",
   "execution_count": null,
   "id": "fedcfca5",
   "metadata": {},
   "outputs": [],
   "source": [
    "for i in range(len(inputs)):\n",
    "    print(torch.dot(query,inputs[i]))"
   ]
  },
  {
   "cell_type": "code",
   "execution_count": null,
   "id": "1571a787",
   "metadata": {},
   "outputs": [],
   "source": [
    "attention_scores2 = torch.empty(len(inputs))\n",
    "for i in range(len(inputs)):\n",
    "    attention_scores2[i] = torch.dot(query,inputs[i])\n",
    "print(attention_scores2)"
   ]
  },
  {
   "cell_type": "code",
   "execution_count": null,
   "id": "16927200",
   "metadata": {},
   "outputs": [],
   "source": [
    "def softmax(x):\n",
    "    torch.exp(x)/ torch.exp(x)"
   ]
  },
  {
   "cell_type": "code",
   "execution_count": null,
   "id": "e78adbd1",
   "metadata": {},
   "outputs": [],
   "source": [
    "torch.softmax(attention_scores2, dim = 0)"
   ]
  },
  {
   "cell_type": "code",
   "execution_count": null,
   "id": "916a68a2",
   "metadata": {},
   "outputs": [],
   "source": [
    "attention_scores2.sum()\n"
   ]
  },
  {
   "cell_type": "code",
   "execution_count": null,
   "id": "31487659",
   "metadata": {},
   "outputs": [],
   "source": [
    "context_vector_2 = torch.zeros (query.shape)\n",
    "for i in range(len(attention_scores2)):\n",
    "    context_vector_2 += attention_scores2[i] * inputs[i]\n",
    "context_vector_2fgjghbg"
   ]
  }
 ],
 "metadata": {
  "kernelspec": {
   "display_name": "Python 3",
   "language": "python",
   "name": "python3"
  },
  "language_info": {
   "codemirror_mode": {
    "name": "ipython",
    "version": 3
   },
   "file_extension": ".py",
   "mimetype": "text/x-python",
   "name": "python",
   "nbconvert_exporter": "python",
   "pygments_lexer": "ipython3",
   "version": "3.13.3"
  }
 },
 "nbformat": 4,
 "nbformat_minor": 5
}
