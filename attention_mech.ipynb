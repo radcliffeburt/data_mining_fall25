{
 "cells": [
  {
   "cell_type": "code",
   "execution_count": 3,
   "id": "8ae728a3",
   "metadata": {},
   "outputs": [],
   "source": [
    "import torch, tiktoken"
   ]
  },
  {
   "cell_type": "code",
   "execution_count": 4,
   "id": "7bf63a4e",
   "metadata": {},
   "outputs": [],
   "source": [
    "raw_text = \"this is an animal\""
   ]
  },
  {
   "cell_type": "code",
   "execution_count": 5,
   "id": "3ada783f",
   "metadata": {},
   "outputs": [],
   "source": [
    "tokenizer = tiktoken.get_encoding(\"gpt2\")"
   ]
  },
  {
   "cell_type": "code",
   "execution_count": 6,
   "id": "34567a0b",
   "metadata": {},
   "outputs": [
    {
     "name": "stdout",
     "output_type": "stream",
     "text": [
      "[5661, 318, 281, 5044]\n"
     ]
    }
   ],
   "source": [
    "enc_text = tokenizer.encode(raw_text)\n",
    "print(enc_text) "
   ]
  },
  {
   "cell_type": "code",
   "execution_count": 22,
   "id": "335e5a0a",
   "metadata": {},
   "outputs": [
    {
     "name": "stdout",
     "output_type": "stream",
     "text": [
      "Parameter containing:\n",
      "tensor([[ 1.0267, -2.1814, -0.5086],\n",
      "        [ 1.8118,  1.5974, -0.8672],\n",
      "        [-1.3830, -0.3423, -0.7494],\n",
      "        [ 0.5550, -1.1884, -0.9085]], requires_grad=True)\n"
     ]
    }
   ],
   "source": [
    "vocab_size = 4\n",
    "output_dim = 3\n",
    "inputs = torch.nn.Embedding(vocab_size, output_dim)\n",
    "print(inputs.weight)"
   ]
  },
  {
   "cell_type": "code",
   "execution_count": 23,
   "id": "442ce7f0",
   "metadata": {},
   "outputs": [
    {
     "name": "stdout",
     "output_type": "stream",
     "text": [
      "tensor([[ 1.0267, -2.1814, -0.5086],\n",
      "        [ 1.8118,  1.5974, -0.8672],\n",
      "        [-1.3830, -0.3423, -0.7494],\n",
      "        [ 0.5550, -1.1884, -0.9085]])\n"
     ]
    }
   ],
   "source": [
    "inputs = inputs.weight.data\n",
    "print(inputs)\n"
   ]
  },
  {
   "cell_type": "code",
   "execution_count": 10,
   "id": "df6b706d",
   "metadata": {},
   "outputs": [
    {
     "data": {
      "text/plain": [
       "torch.Size([4, 3])"
      ]
     },
     "execution_count": 10,
     "metadata": {},
     "output_type": "execute_result"
    }
   ],
   "source": [
    "inputs.shape"
   ]
  },
  {
   "cell_type": "code",
   "execution_count": 11,
   "id": "6bdd037b",
   "metadata": {},
   "outputs": [
    {
     "name": "stdout",
     "output_type": "stream",
     "text": [
      "[0.8249934911727905, 0.20475949347019196, -1.8176409006118774]\n",
      "[0.2683960497379303, -0.15619559586048126, 0.17950648069381714]\n",
      "[-0.7374725937843323, 0.5850347876548767, 0.29688188433647156]\n",
      "[0.3095060884952545, -1.1209542751312256, 0.5972728133201599]\n"
     ]
    }
   ],
   "source": [
    "for row in inputs:\n",
    "    print(row.tolist())"
   ]
  },
  {
   "cell_type": "code",
   "execution_count": 24,
   "id": "64fc2377",
   "metadata": {},
   "outputs": [],
   "source": [
    "x = torch.Tensor([1.1,2.3])\n",
    "y = torch.Tensor([3.4,-2.1])"
   ]
  },
  {
   "cell_type": "code",
   "execution_count": null,
   "id": "ca543601",
   "metadata": {},
   "outputs": [
    {
     "data": {
      "text/plain": [
       "tensor(-1.0900)"
      ]
     },
     "execution_count": 25,
     "metadata": {},
     "output_type": "execute_result"
    }
   ],
   "source": [
    "torch.dot(x,y) # dot = x1 *x2 +y1*y2"
   ]
  },
  {
   "cell_type": "code",
   "execution_count": 26,
   "id": "11004ced",
   "metadata": {},
   "outputs": [
    {
     "name": "stdout",
     "output_type": "stream",
     "text": [
      "tensor([-1.3830, -0.3423, -0.7494])\n"
     ]
    }
   ],
   "source": [
    "query = inputs[2]\n",
    "print(query)\n"
   ]
  },
  {
   "cell_type": "code",
   "execution_count": 27,
   "id": "fedcfca5",
   "metadata": {},
   "outputs": [
    {
     "name": "stdout",
     "output_type": "stream",
     "text": [
      "tensor(-0.2921)\n",
      "tensor(-2.4026)\n",
      "tensor(2.5914)\n",
      "tensor(0.3201)\n"
     ]
    }
   ],
   "source": [
    "for i in range(len(inputs)):\n",
    "    print(torch.dot(query,inputs[i]))"
   ]
  },
  {
   "cell_type": "code",
   "execution_count": 28,
   "id": "1571a787",
   "metadata": {},
   "outputs": [
    {
     "name": "stdout",
     "output_type": "stream",
     "text": [
      "tensor([-0.2921, -2.4026,  2.5914,  0.3201])\n"
     ]
    }
   ],
   "source": [
    "attention_scores2 = torch.empty(len(inputs))\n",
    "for i in range(len(inputs)):\n",
    "    attention_scores2[i] = torch.dot(query,inputs[i])\n",
    "print(attention_scores2)"
   ]
  },
  {
   "cell_type": "code",
   "execution_count": 29,
   "id": "16927200",
   "metadata": {},
   "outputs": [],
   "source": [
    "def softmax(x):\n",
    "    torch.exp(x)/ torch.exp(x)"
   ]
  },
  {
   "cell_type": "code",
   "execution_count": 30,
   "id": "e78adbd1",
   "metadata": {},
   "outputs": [
    {
     "data": {
      "text/plain": [
       "tensor([0.0480, 0.0058, 0.8577, 0.0885])"
      ]
     },
     "execution_count": 30,
     "metadata": {},
     "output_type": "execute_result"
    }
   ],
   "source": [
    "torch.softmax(attention_scores2, dim = 0)"
   ]
  },
  {
   "cell_type": "code",
   "execution_count": 31,
   "id": "916a68a2",
   "metadata": {},
   "outputs": [
    {
     "data": {
      "text/plain": [
       "tensor(0.2168)"
      ]
     },
     "execution_count": 31,
     "metadata": {},
     "output_type": "execute_result"
    }
   ],
   "source": [
    "attention_scores2.sum()\n"
   ]
  },
  {
   "cell_type": "code",
   "execution_count": 32,
   "id": "31487659",
   "metadata": {},
   "outputs": [
    {
     "data": {
      "text/plain": [
       "tensor([-8.0592e+00, -4.4684e+00, -7.6133e-04])"
      ]
     },
     "execution_count": 32,
     "metadata": {},
     "output_type": "execute_result"
    }
   ],
   "source": [
    "context_vector_2 = torch.zeros (query.shape)\n",
    "for i in range(len(attention_scores2)):\n",
    "    context_vector_2 += attention_scores2[i] * inputs[i]\n",
    "context_vector_2"
   ]
  },
  {
   "cell_type": "code",
   "execution_count": 34,
   "id": "77330496",
   "metadata": {},
   "outputs": [
    {
     "data": {
      "text/plain": [
       "tensor([[ 6.0715, -1.1835, -0.2921,  3.6243],\n",
       "        [-1.1835,  6.5864, -2.4026, -0.1051],\n",
       "        [-0.2921, -2.4026,  2.5914,  0.3201],\n",
       "        [ 3.6243, -0.1051,  0.3201,  2.5458]])"
      ]
     },
     "execution_count": 34,
     "metadata": {},
     "output_type": "execute_result"
    }
   ],
   "source": [
    "attention_weights = inputs @ inputs.T\n",
    "attention_weights"
   ]
  },
  {
   "cell_type": "code",
   "execution_count": 38,
   "id": "32a2b146",
   "metadata": {},
   "outputs": [
    {
     "data": {
      "text/plain": [
       "<function Tensor.sum>"
      ]
     },
     "execution_count": 38,
     "metadata": {},
     "output_type": "execute_result"
    }
   ],
   "source": [
    "attention_weights[0].sum\n"
   ]
  },
  {
   "cell_type": "code",
   "execution_count": 40,
   "id": "e0f360ae",
   "metadata": {},
   "outputs": [
    {
     "data": {
      "text/plain": [
       "tensor([[ 6.5047e+00, -1.9343e+01, -5.1356e+00],\n",
       "        [ 1.3983e+01,  1.4050e+01, -3.2135e+00],\n",
       "        [-8.0592e+00, -4.4684e+00, -7.6133e-04],\n",
       "        [ 4.5008e+00, -1.1209e+01, -4.3050e+00]])"
      ]
     },
     "execution_count": 40,
     "metadata": {},
     "output_type": "execute_result"
    }
   ],
   "source": [
    "context_vectors = attention_weights @ inputs\n",
    "context_vectors"
   ]
  },
  {
   "cell_type": "code",
   "execution_count": null,
   "id": "d862ef02",
   "metadata": {},
   "outputs": [],
   "source": []
  }
 ],
 "metadata": {
  "kernelspec": {
   "display_name": "Python 3",
   "language": "python",
   "name": "python3"
  },
  "language_info": {
   "codemirror_mode": {
    "name": "ipython",
    "version": 3
   },
   "file_extension": ".py",
   "mimetype": "text/x-python",
   "name": "python",
   "nbconvert_exporter": "python",
   "pygments_lexer": "ipython3",
   "version": "3.13.3"
  }
 },
 "nbformat": 4,
 "nbformat_minor": 5
}
